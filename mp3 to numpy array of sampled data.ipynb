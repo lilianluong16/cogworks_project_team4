{
 "cells": [
  {
   "cell_type": "code",
   "execution_count": 19,
   "metadata": {},
   "outputs": [
    {
     "name": "stdout",
     "output_type": "stream",
     "text": [
      "['Black Beatles.mp3', 'Cold.mp3', 'Happy.mp3', 'See You Again.mp3', 'Sugar.mp3', 'Xo Tour Life.mp3']\n"
     ]
    }
   ],
   "source": [
    "\n",
    "\n",
    "\n",
    "\n",
    "\n",
    "def mp3_to_samparr(song_path):\n",
    "    \n",
    "    samples, fs = librosa.load(song_path, sr=44100, mono=True)\n",
    "\n",
    "    N = len(samples) # N represents the number of samples\n",
    "\n",
    "    T = N/fs   # N divided by the sampling rate (fs) gives you the total duration in seconds\n",
    "\n",
    "    time_arr = np.linspace(0,T,N) # time represents a numpy array of equally spaced time values\n",
    "    \n",
    "    \n",
    "    all_list = [samples,N,T,time_arr]\n",
    "    \n",
    "    return all_list\n",
    "\n",
    "\n",
    "\n",
    "\n",
    "def convert_files_to_songpaths(directory_name):\n",
    "    \n",
    "    from os import listdir\n",
    "    from os.path import isfile, join\n",
    "    onlyfiles = [f for f in listdir(directory_name) if isfile(join(directory_name, f))]\n",
    "\n",
    "    str_of_songpaths = []\n",
    "\n",
    "    for i in range(len(onlyfiles)):\n",
    "        \n",
    "        str_of_songpaths.append(directory_name + '\\\\' +onlyfiles[i])\n",
    "        \n",
    "        \n",
    "\n",
    "\n",
    "\n",
    "\n",
    "def train_database(songpaths_arr):\n",
    "    \n",
    "    \n",
    "    list = []\n",
    "    \n",
    "    for i in range(len(songpaths_arr)):\n",
    "        new_list = []\n",
    "        new_list.append(mp3_to_samparr(songpaths_arr[i])[0])\n",
    "        \n",
    "        \n",
    "        \n",
    "        \n",
    "        \n",
    "\n",
    "\n",
    "\n",
    "def songpath_to_name(songpath):\n",
    "    \n",
    "    \n",
    "    \n",
    "    the_first = songpath.rfind('\\\\')\n",
    "    the_second = songpath.rfind('.')\n",
    "    \n",
    "    \n",
    "    \n",
    "    name = songpath_new[the_first+1:the_second]\n",
    "    return name\n",
    "\n",
    "\n",
    "    \n",
    "        \n",
    "        \n",
    "        \n",
    "        \n",
    "        \n",
    "        \n",
    "\n",
    "\n",
    "\n"
   ]
  },
  {
   "cell_type": "code",
   "execution_count": null,
   "metadata": {
    "collapsed": true
   },
   "outputs": [],
   "source": []
  }
 ],
 "metadata": {
  "anaconda-cloud": {},
  "kernelspec": {
   "display_name": "Python [conda root]",
   "language": "python",
   "name": "conda-root-py"
  },
  "language_info": {
   "codemirror_mode": {
    "name": "ipython",
    "version": 3
   },
   "file_extension": ".py",
   "mimetype": "text/x-python",
   "name": "python",
   "nbconvert_exporter": "python",
   "pygments_lexer": "ipython3",
   "version": "3.5.2"
  }
 },
 "nbformat": 4,
 "nbformat_minor": 1
}
