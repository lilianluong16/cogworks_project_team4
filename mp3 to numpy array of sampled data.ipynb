{
 "cells": [
  {
   "cell_type": "code",
   "execution_count": 32,
   "metadata": {},
   "outputs": [
    {
     "data": {
      "text/plain": [
       "'Sugar'"
      ]
     },
     "execution_count": 32,
     "metadata": {},
     "output_type": "execute_result"
    }
   ],
   "source": [
    "\n",
    "\n",
    "def mp3_to_samparr(song_path):    # WORKS\n",
    "    \n",
    "    \n",
    "    import librosa\n",
    "    import numpy as np\n",
    "    samples, fs = librosa.load(song_path, sr=44100, mono=True)\n",
    "\n",
    "    N = len(samples) # N represents the number of samples\n",
    "\n",
    "    T = N/fs   # N divided by the sampling rate (fs) gives you the total duration in seconds\n",
    "\n",
    "    time_arr = np.linspace(0,T,N) # time represents a numpy array of equally spaced time values\n",
    "    \n",
    "    \n",
    "    all_list = [samples,N,T,time_arr]\n",
    "    \n",
    "    return all_list\n",
    "\n",
    "\n",
    "\n",
    "\n",
    "def convert_files_to_songpaths(directory_name):          # WORKS\n",
    "    \n",
    "    from os import listdir\n",
    "    from os.path import isfile, join\n",
    "    onlyfiles = [f for f in listdir(directory_name) if isfile(join(directory_name, f))]\n",
    "\n",
    "    str_of_songpaths = []\n",
    "\n",
    "    for i in range(len(onlyfiles)):\n",
    "        \n",
    "        str_of_songpaths.append(directory_name + '\\\\' +onlyfiles[i])\n",
    "        \n",
    "    \n",
    "    return str_of_songpaths\n",
    "        \n",
    "        \n",
    "\n",
    "\n",
    "\n",
    "\n",
    "def train_database(songpaths_arr):\n",
    "    \n",
    "    \n",
    "    \"\"\"Accept the array of all song paths and register then in the database\n",
    "    \n",
    "        New Song = Song(songpath_to_name(songpaths_arr[0]),songpath_to_artist(songpaths_arr[0]),songpaths_arr[0])\n",
    "        \n",
    "        \n",
    "    \n",
    "    \"\"\"\n",
    "        \n",
    "        \n",
    "        \n",
    "\n",
    "def songpath_to_name(songpath):         # WORKS\n",
    "     \n",
    "    \n",
    "    \n",
    "    the_first = songpath.rfind('\\\\')\n",
    "    the_second = songpath.rfind('_')\n",
    "    \n",
    "    \n",
    "    \n",
    "    name = songpath[the_first+1:the_second]\n",
    "    return name\n",
    "\n",
    "\n",
    "def songpath_to_artist(songpath):         # WORKS\n",
    "     \n",
    "    \n",
    "    \n",
    "    the_first = songpath.rfind('_')\n",
    "    the_second = songpath.rfind('.')\n",
    "    \n",
    "    \n",
    "    \n",
    "    artist = songpath[the_first+1:the_second]\n",
    "    return artist\n",
    "\n",
    "\n",
    "\n",
    "\n",
    "songpath_to_name('C:\\\\Users\\\\Mint\\\\Documents\\\\MIT BeaverWorks Cognitive Assistant\\\\Songs\\\\Sugar_Maroon 5.mp3')\n"
   ]
  },
  {
   "cell_type": "code",
   "execution_count": null,
   "metadata": {
    "collapsed": true
   },
   "outputs": [],
   "source": []
  }
 ],
 "metadata": {
  "anaconda-cloud": {},
  "kernelspec": {
   "display_name": "Python [conda root]",
   "language": "python",
   "name": "conda-root-py"
  },
  "language_info": {
   "codemirror_mode": {
    "name": "ipython",
    "version": 3
   },
   "file_extension": ".py",
   "mimetype": "text/x-python",
   "name": "python",
   "nbconvert_exporter": "python",
   "pygments_lexer": "ipython3",
   "version": "3.5.2"
  }
 },
 "nbformat": 4,
 "nbformat_minor": 1
}
