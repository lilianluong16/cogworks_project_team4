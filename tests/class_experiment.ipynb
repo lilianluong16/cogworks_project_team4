{
 "cells": [
  {
   "cell_type": "code",
   "execution_count": 31,
   "metadata": {
    "collapsed": false
   },
   "outputs": [
    {
     "ename": "ImportError",
     "evalue": "No module named 'cPickle'",
     "output_type": "error",
     "traceback": [
      "\u001b[0;31m---------------------------------------------------------------------------\u001b[0m",
      "\u001b[0;31mImportError\u001b[0m                               Traceback (most recent call last)",
      "\u001b[0;32m<ipython-input-31-5f556192d266>\u001b[0m in \u001b[0;36m<module>\u001b[0;34m()\u001b[0m\n\u001b[1;32m      1\u001b[0m \u001b[1;31m# Imports\u001b[0m\u001b[1;33m\u001b[0m\u001b[1;33m\u001b[0m\u001b[0m\n\u001b[0;32m----> 2\u001b[0;31m \u001b[1;32mimport\u001b[0m \u001b[0mcPickle\u001b[0m \u001b[1;32mas\u001b[0m \u001b[0mpickle\u001b[0m\u001b[1;33m\u001b[0m\u001b[0m\n\u001b[0m",
      "\u001b[0;31mImportError\u001b[0m: No module named 'cPickle'"
     ]
    }
   ],
   "source": [
    "# Imports\n",
    "import cPickle as pickle"
   ]
  },
  {
   "cell_type": "code",
   "execution_count": 2,
   "metadata": {
    "collapsed": true
   },
   "outputs": [],
   "source": [
    "# Class Definitions\n",
    "class Person:\n",
    "    def __init__(self, name):\n",
    "        self.name = name"
   ]
  },
  {
   "cell_type": "code",
   "execution_count": 3,
   "metadata": {
    "collapsed": true
   },
   "outputs": [],
   "source": [
    "# Create dictionary with class in it\n",
    "def form_dict(n):\n",
    "    d = {}\n",
    "    for i in range(n):\n",
    "        tup = (i, i + 1)\n",
    "        d[tup] = Person(i)\n",
    "    return d"
   ]
  },
  {
   "cell_type": "code",
   "execution_count": 40,
   "metadata": {
    "collapsed": true
   },
   "outputs": [],
   "source": [
    "# Write dictionary to text file\n",
    "def write_dict(d, filepath):\n",
    "    with open(\"../data/class_test\", \"wb\") as f:\n",
    "        pickle.dump(d, f, protocol=pickle.HIGHEST_PROTOCOL)"
   ]
  },
  {
   "cell_type": "code",
   "execution_count": 43,
   "metadata": {
    "collapsed": true
   },
   "outputs": [],
   "source": [
    "# Read dictionary from text file\n",
    "def read_dict(filepath):\n",
    "    with open(\"../data/class_test\", \"rb\") as f:\n",
    "        d = pickle.load(f)\n",
    "    return d"
   ]
  },
  {
   "cell_type": "code",
   "execution_count": 44,
   "metadata": {
    "collapsed": false
   },
   "outputs": [
    {
     "name": "stdout",
     "output_type": "stream",
     "text": [
      "{(0, 1): <__main__.Person object at 0x000001AFD0BA7BE0>, (1, 2): <__main__.Person object at 0x000001AFD0BA7E80>, (2, 3): <__main__.Person object at 0x000001AFD0BA7DA0>, (4, 5): <__main__.Person object at 0x000001AFD0BA7D30>, (5, 6): <__main__.Person object at 0x000001AFD0BA7E10>, (6, 7): <__main__.Person object at 0x000001AFD0BA7DD8>, (8, 9): <__main__.Person object at 0x000001AFD0BA7CF8>, (9, 10): <__main__.Person object at 0x000001AFD0BA7C18>, (3, 4): <__main__.Person object at 0x000001AFD0BA7F98>, (7, 8): <__main__.Person object at 0x000001AFD0BA7FD0>}\n"
     ]
    }
   ],
   "source": [
    "# Test\n",
    "write_dict(form_dict(10), None)\n",
    "print(read_dict(None))"
   ]
  },
  {
   "cell_type": "code",
   "execution_count": null,
   "metadata": {
    "collapsed": true
   },
   "outputs": [],
   "source": []
  }
 ],
 "metadata": {
  "anaconda-cloud": {},
  "kernelspec": {
   "display_name": "Python [conda root]",
   "language": "python",
   "name": "conda-root-py"
  },
  "language_info": {
   "codemirror_mode": {
    "name": "ipython",
    "version": 3
   },
   "file_extension": ".py",
   "mimetype": "text/x-python",
   "name": "python",
   "nbconvert_exporter": "python",
   "pygments_lexer": "ipython3",
   "version": "3.5.2"
  }
 },
 "nbformat": 4,
 "nbformat_minor": 1
}
