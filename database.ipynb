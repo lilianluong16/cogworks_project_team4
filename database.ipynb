{
 "cells": [
  {
   "cell_type": "code",
   "execution_count": 1,
   "metadata": {
    "collapsed": true
   },
   "outputs": [],
   "source": [
    "# Imports\n",
    "import pickle\n",
    "import numpy as np"
   ]
  },
  {
   "cell_type": "code",
   "execution_count": 2,
   "metadata": {
    "collapsed": true
   },
   "outputs": [],
   "source": [
    "# Constants\n",
    "DATABASE_FP = \"data/song_features.txt\"\n",
    "\n",
    "# Variables\n",
    "database = {}"
   ]
  },
  {
   "cell_type": "code",
   "execution_count": 3,
   "metadata": {
    "collapsed": true
   },
   "outputs": [],
   "source": [
    "# Retrieve DB\n",
    "def retrieve_database(filepath=DATABASE_FP):\n",
    "    with open(filepath, \"rb\") as f:\n",
    "        db = pickle.load(f)\n",
    "    return db"
   ]
  },
  {
   "cell_type": "code",
   "execution_count": 4,
   "metadata": {
    "collapsed": true
   },
   "outputs": [],
   "source": [
    "# Write DB\n",
    "def write_database(filepath=DATABASE_FP):\n",
    "    with open(filepath, \"wb\") as f:\n",
    "        pickle.dump(database, f)"
   ]
  },
  {
   "cell_type": "code",
   "execution_count": 5,
   "metadata": {
    "collapsed": true
   },
   "outputs": [],
   "source": [
    "# Add song to database\n",
    "def add_song(features, name, artist):\n",
    "    song = (name, artist)\n",
    "    for feat in features:\n",
    "        if feat in database:\n",
    "            database[feat].append(song)\n",
    "        else:\n",
    "            database[feat] = [song]"
   ]
  },
  {
   "cell_type": "code",
   "execution_count": 6,
   "metadata": {
    "collapsed": true
   },
   "outputs": [],
   "source": [
    "# Get list of songs with artists\n",
    "def get_songs_from_db():\n",
    "    songs = set()\n",
    "    for feature in database.keys():\n",
    "        for song in database[feature]:\n",
    "            if song not in songs:\n",
    "                songs.add(song)\n",
    "    return songs\n",
    "\n",
    "# Display list\n",
    "def display_songs():\n",
    "    for song in list(get_songs_from_db()):\n",
    "        print(song[0], \"by\", song[1])"
   ]
  },
  {
   "cell_type": "code",
   "execution_count": 29,
   "metadata": {
    "collapsed": true
   },
   "outputs": [],
   "source": [
    "# Remove song from database\n",
    "def remove_song(song):\n",
    "    for feature in database.keys():\n",
    "        songs = database[feature]\n",
    "        if song in songs:\n",
    "            songs.remove(song)\n",
    "    i = database.copy()\n",
    "    for k, v in i.items():\n",
    "        if v == []:\n",
    "           del database[k]\n",
    "    # TODO: Remove empty features"
   ]
  },
  {
   "cell_type": "code",
   "execution_count": 8,
   "metadata": {
    "collapsed": true
   },
   "outputs": [],
   "source": [
    "def clear_database(password):\n",
    "    if password.lower() == \"yes i am sure\":\n",
    "        if input(\"Are you very sure?\").lower() == \"y\":\n",
    "            global database\n",
    "            database = {}"
   ]
  },
  {
   "cell_type": "code",
   "execution_count": 9,
   "metadata": {
    "collapsed": true
   },
   "outputs": [],
   "source": [
    "# Start\n",
    "def initialize():\n",
    "    global database\n",
    "    database = retrieve_database()\n",
    "\n",
    "initialize()"
   ]
  }
 ],
 "metadata": {
  "anaconda-cloud": {},
  "kernelspec": {
   "display_name": "Python [conda root]",
   "language": "python",
   "name": "conda-root-py"
  },
  "language_info": {
   "codemirror_mode": {
    "name": "ipython",
    "version": 3
   },
   "file_extension": ".py",
   "mimetype": "text/x-python",
   "name": "python",
   "nbconvert_exporter": "python",
   "pygments_lexer": "ipython3",
   "version": "3.5.2"
  }
 },
 "nbformat": 4,
 "nbformat_minor": 1
}
