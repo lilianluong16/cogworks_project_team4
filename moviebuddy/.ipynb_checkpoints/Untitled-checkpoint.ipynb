{
 "cells": [
  {
   "cell_type": "code",
   "execution_count": 12,
   "metadata": {
    "collapsed": false
   },
   "outputs": [],
   "source": [
    "from bs4 import BeautifulSoup\n",
    "from mechanicalsoup import StatefulBrowser\n",
    "import re"
   ]
  },
  {
   "cell_type": "code",
   "execution_count": 4,
   "metadata": {
    "collapsed": true
   },
   "outputs": [],
   "source": [
    "def create_search_link(movie_name):\n",
    "    \"\"\"\n",
    "    Creates link for IMDB search\n",
    "    \n",
    "    Parameters\n",
    "    ----------\n",
    "    movie: String\n",
    "        The name of the movie\n",
    "    \n",
    "    Returns\n",
    "    -------\n",
    "    url: String\n",
    "    \"\"\"\n",
    "    url = \"http://www.imdb.com/find?q=\" + '+'.join(movie_name.split()) + \"&s=all\"\n",
    "    return url"
   ]
  },
  {
   "cell_type": "code",
   "execution_count": 64,
   "metadata": {
    "collapsed": false
   },
   "outputs": [
    {
     "name": "stdout",
     "output_type": "stream",
     "text": [
      "http://www.imdb.com/find?q=The+Dark+Knight&s=all\n"
     ]
    },
    {
     "ename": "IndexError",
     "evalue": "list index out of range",
     "output_type": "error",
     "traceback": [
      "\u001b[0;31m---------------------------------------------------------------------------\u001b[0m",
      "\u001b[0;31mIndexError\u001b[0m                                Traceback (most recent call last)",
      "\u001b[0;32m<ipython-input-64-47fd5cb42c71>\u001b[0m in \u001b[0;36m<module>\u001b[0;34m()\u001b[0m\n\u001b[1;32m      1\u001b[0m \u001b[0msl\u001b[0m \u001b[1;33m=\u001b[0m \u001b[0mcreate_search_link\u001b[0m\u001b[1;33m(\u001b[0m\u001b[1;34m\"The Dark Knight\"\u001b[0m\u001b[1;33m)\u001b[0m\u001b[1;33m\u001b[0m\u001b[0m\n\u001b[1;32m      2\u001b[0m \u001b[0mprint\u001b[0m\u001b[1;33m(\u001b[0m\u001b[0msl\u001b[0m\u001b[1;33m)\u001b[0m\u001b[1;33m\u001b[0m\u001b[0m\n\u001b[0;32m----> 3\u001b[0;31m \u001b[0mprint\u001b[0m\u001b[1;33m(\u001b[0m\u001b[0mget_page\u001b[0m\u001b[1;33m(\u001b[0m\u001b[0msl\u001b[0m\u001b[1;33m)\u001b[0m\u001b[1;33m)\u001b[0m\u001b[1;33m\u001b[0m\u001b[0m\n\u001b[0m",
      "\u001b[0;32m<ipython-input-63-17dc3f10ca2d>\u001b[0m in \u001b[0;36mget_page\u001b[0;34m(url)\u001b[0m\n\u001b[1;32m     16\u001b[0m     \u001b[1;31m# /title/tt0468569/?ref_=fn_al_tt_1\u001b[0m\u001b[1;33m\u001b[0m\u001b[1;33m\u001b[0m\u001b[0m\n\u001b[1;32m     17\u001b[0m     \u001b[0msearch\u001b[0m \u001b[1;33m=\u001b[0m \u001b[0mre\u001b[0m\u001b[1;33m.\u001b[0m\u001b[0mcompile\u001b[0m\u001b[1;33m(\u001b[0m\u001b[1;34m'r/title/tt.*'\u001b[0m\u001b[1;33m)\u001b[0m\u001b[1;33m\u001b[0m\u001b[0m\n\u001b[0;32m---> 18\u001b[0;31m     \u001b[0mlink\u001b[0m \u001b[1;33m=\u001b[0m \u001b[0mbwsr\u001b[0m\u001b[1;33m.\u001b[0m\u001b[0mlinks\u001b[0m\u001b[1;33m(\u001b[0m\u001b[0murl_regex\u001b[0m \u001b[1;33m=\u001b[0m \u001b[0msearch\u001b[0m\u001b[1;33m)\u001b[0m\u001b[1;33m[\u001b[0m\u001b[1;36m0\u001b[0m\u001b[1;33m]\u001b[0m\u001b[1;33m\u001b[0m\u001b[0m\n\u001b[0m\u001b[1;32m     19\u001b[0m     \u001b[0mpage\u001b[0m \u001b[1;33m=\u001b[0m \u001b[0mbwsr\u001b[0m\u001b[1;33m.\u001b[0m\u001b[0mfollow_link\u001b[0m\u001b[1;33m(\u001b[0m\u001b[0mlink\u001b[0m\u001b[1;33m)\u001b[0m\u001b[1;33m\u001b[0m\u001b[0m\n\u001b[1;32m     20\u001b[0m     \u001b[1;31m#page = bwsr.follow_link(\"http://www.imdb.com\" + link['href'])\u001b[0m\u001b[1;33m\u001b[0m\u001b[1;33m\u001b[0m\u001b[0m\n",
      "\u001b[0;31mIndexError\u001b[0m: list index out of range"
     ]
    }
   ],
   "source": [
    "sl = create_search_link(\"The Dark Knight\")\n",
    "print(sl)\n",
    "print(get_page(sl))"
   ]
  },
  {
   "cell_type": "code",
   "execution_count": 63,
   "metadata": {
    "collapsed": true
   },
   "outputs": [],
   "source": [
    "def get_page(url):\n",
    "    \"\"\"\n",
    "    Accesses url of IMDB page.\n",
    "    \n",
    "    Parameters\n",
    "    ----------\n",
    "    url: String\n",
    "        The URL of the IMDB page to be accessed.\n",
    "    \n",
    "    Returns\n",
    "    -------\n",
    "    page resource\n",
    "    \"\"\"\n",
    "    bwsr = StatefulBrowser()\n",
    "    bwsr.open(url)\n",
    "    # /title/tt0468569/?ref_=fn_al_tt_1\n",
    "    search = re.compile('r/title/tt.*')\n",
    "    link = bwsr.links(url_regex = search)\n",
    "    page = bwsr.follow_link(link)\n",
    "    #page = bwsr.follow_link(\"http://www.imdb.com\" + link['href'])\n",
    "    return page"
   ]
  },
  {
   "cell_type": "code",
   "execution_count": null,
   "metadata": {
    "collapsed": true
   },
   "outputs": [],
   "source": [
    "def parse_page(page):\n",
    "    bsoup = BeautifulSoup(page.read())\n",
    "    title = s"
   ]
  }
 ],
 "metadata": {
  "kernelspec": {
   "display_name": "Python [conda root]",
   "language": "python",
   "name": "conda-root-py"
  },
  "language_info": {
   "codemirror_mode": {
    "name": "ipython",
    "version": 3
   },
   "file_extension": ".py",
   "mimetype": "text/x-python",
   "name": "python",
   "nbconvert_exporter": "python",
   "pygments_lexer": "ipython3",
   "version": "3.5.2"
  }
 },
 "nbformat": 4,
 "nbformat_minor": 1
}
