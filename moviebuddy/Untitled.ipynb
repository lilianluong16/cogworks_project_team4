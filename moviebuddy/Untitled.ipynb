{
 "cells": [
  {
   "cell_type": "code",
   "execution_count": 167,
   "metadata": {
    "collapsed": false
   },
   "outputs": [],
   "source": [
    "from bs4 import BeautifulSoup\n",
    "from mechanicalsoup import StatefulBrowser\n",
    "import re\n",
    "from nltk import word_tokenize\n",
    "from nltk.corpus import stopwords\n",
    "import string\n",
    "import numpy as np"
   ]
  },
  {
   "cell_type": "code",
   "execution_count": 4,
   "metadata": {
    "collapsed": true
   },
   "outputs": [],
   "source": [
    "def create_search_link(movie_name):\n",
    "    \"\"\"\n",
    "    Creates link for IMDB search\n",
    "    \n",
    "    Parameters\n",
    "    ----------\n",
    "    movie: String\n",
    "        The name of the movie\n",
    "    \n",
    "    Returns\n",
    "    -------\n",
    "    url: String\n",
    "    \"\"\"\n",
    "    url = \"http://www.imdb.com/find?q=\" + '+'.join(movie_name.split()) + \"&s=all\"\n",
    "    return url"
   ]
  },
  {
   "cell_type": "code",
   "execution_count": 184,
   "metadata": {
    "collapsed": false
   },
   "outputs": [
    {
     "name": "stdout",
     "output_type": "stream",
     "text": [
      "http://www.imdb.com/find?q=The+Dark+Knight&s=all\n"
     ]
    }
   ],
   "source": [
    "sl = create_search_link(\"The Dark Knight\")\n",
    "print(sl)\n",
    "page = get_page(sl)"
   ]
  },
  {
   "cell_type": "code",
   "execution_count": 182,
   "metadata": {
    "collapsed": true
   },
   "outputs": [],
   "source": [
    "def get_page(url):\n",
    "    \"\"\"\n",
    "    Accesses url of IMDB page.\n",
    "    \n",
    "    Parameters\n",
    "    ----------\n",
    "    url: String\n",
    "        The URL of the IMDB page to be accessed.\n",
    "    \n",
    "    Returns\n",
    "    -------\n",
    "    page resource\n",
    "    \"\"\"\n",
    "    bwsr = StatefulBrowser()\n",
    "    bwsr.open(url)\n",
    "    # /title/tt0468569/?ref_=fn_al_tt_1\n",
    "    search = re.compile(r'/title/tt.*')\n",
    "    link = bwsr.links(url_regex = search)[0]\n",
    "    page = bwsr.open(\"http://www.imdb.com\" + link['href'])\n",
    "    #movie_id = link['href'].split(\"/?ref\")[0]\n",
    "    #page = bwsr.open(\"http://www.imdb.com\" + movie_id + \"/reviews?ref_=tt_urv\")\n",
    "    return page.soup"
   ]
  },
  {
   "cell_type": "code",
   "execution_count": 210,
   "metadata": {
    "collapsed": false
   },
   "outputs": [],
   "source": [
    "def parse_summary(page):\n",
    "    \"\"\"\n",
    "    Given the page of an IMDb movie, return a list of filtered tokens.\n",
    "    \n",
    "    Parameters\n",
    "    ----------\n",
    "    page: soup\n",
    "        The page's soup\n",
    "    \n",
    "    Returns\n",
    "    -------\n",
    "    tokens: list of strings\n",
    "    \"\"\"\n",
    "    bsoup = page\n",
    "    movie = {}\n",
    "    movie[\"title\"] = bsoup.find(class_='title_wrapper').find('h1').text.split(\"\\xa0\")[0]\n",
    "    movie[\"year\"] = bsoup.find(id=\"titleYear\").text[1:-1]\n",
    "    movie[\"rating\"] = bsoup.find(class_=\"ratingValue\").find('strong').find('span').text\n",
    "    result = bsoup.find(class_=\"summary_text\")\n",
    "    summary = result.text\n",
    "    for p in string.punctuation:\n",
    "        summary = summary.replace(p, \"\")\n",
    "    tokens = word_tokenize(summary)\n",
    "    movie[\"tokens\"] = [i for i in tokens if i not in stopwords.words()]\n",
    "    return movie"
   ]
  },
  {
   "cell_type": "code",
   "execution_count": 211,
   "metadata": {
    "collapsed": false
   },
   "outputs": [],
   "source": [
    "db[\"The Dark Knight\"] = parse_summary(page)"
   ]
  },
  {
   "cell_type": "code",
   "execution_count": 212,
   "metadata": {
    "collapsed": false
   },
   "outputs": [
    {
     "data": {
      "text/plain": [
       "{'rating': '9.0',\n",
       " 'title': 'The Dark Knight',\n",
       " 'tokens': ['When',\n",
       "  'menace',\n",
       "  'known',\n",
       "  'Joker',\n",
       "  'emerges',\n",
       "  'mysterious',\n",
       "  'past',\n",
       "  'wreaks',\n",
       "  'havoc',\n",
       "  'chaos',\n",
       "  'people',\n",
       "  'Gotham',\n",
       "  'Dark',\n",
       "  'Knight',\n",
       "  'must',\n",
       "  'accept',\n",
       "  'one',\n",
       "  'greatest',\n",
       "  'psychological',\n",
       "  'physical',\n",
       "  'tests',\n",
       "  'ability',\n",
       "  'fight',\n",
       "  'injustice'],\n",
       " 'year': '2008'}"
      ]
     },
     "execution_count": 212,
     "metadata": {},
     "output_type": "execute_result"
    }
   ],
   "source": [
    "db[\"The Dark Knight\"]"
   ]
  },
  {
   "cell_type": "code",
   "execution_count": null,
   "metadata": {
    "collapsed": true
   },
   "outputs": [],
   "source": []
  }
 ],
 "metadata": {
  "kernelspec": {
   "display_name": "Python [conda root]",
   "language": "python",
   "name": "conda-root-py"
  },
  "language_info": {
   "codemirror_mode": {
    "name": "ipython",
    "version": 3
   },
   "file_extension": ".py",
   "mimetype": "text/x-python",
   "name": "python",
   "nbconvert_exporter": "python",
   "pygments_lexer": "ipython3",
   "version": "3.5.2"
  }
 },
 "nbformat": 4,
 "nbformat_minor": 1
}
