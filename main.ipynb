{
 "cells": [
  {
   "cell_type": "code",
   "execution_count": 1,
   "metadata": {
    "collapsed": false
   },
   "outputs": [],
   "source": [
    "import audio_record\n",
    "import database\n",
    "import fingerprinting\n",
    "import song_loader"
   ]
  },
  {
   "cell_type": "code",
   "execution_count": 2,
   "metadata": {
    "collapsed": true
   },
   "outputs": [],
   "source": [
    "def train_single(filepath):\n",
    "    s_i = song_loader.mp3_to_samparr(filepath)\n",
    "    name = song_loader.songpath_to_name(filepath)\n",
    "    artist = song_loader.songpath_to_artist(filepath)\n",
    "    spectro_i = audio_record.spectrogram(s_i)\n",
    "    peaks_i = fingerprinting.find_peaks(spectro_i[0], spectro_i[1])\n",
    "    features = fingerprinting.find_fingerprint(peaks_i, spectro_i[1], spectro_i[2])\n",
    "    return name, artist, features\n",
    "\n",
    "def train(folder=\"audio\"):\n",
    "    filepaths = song_loader.convert_files_to_songpaths(folder)\n",
    "    # load songs\n",
    "    for i in filepaths:\n",
    "        name, artist, features = train_single(i)\n",
    "        print(\"Adding:\", name, \"by\", artist)\n",
    "        database.add_song(features, name, artist)\n",
    "        print(\"Added:\", name, \"by\", artist)\n",
    "        database.write_database()"
   ]
  },
  {
   "cell_type": "code",
   "execution_count": 6,
   "metadata": {
    "collapsed": true
   },
   "outputs": [],
   "source": [
    "def identify():\n",
    "    song = audio_record.record(10)\n",
    "    spectro_i = audio_record.spectrogram(song)\n",
    "    peaks_i = fingerprinting.find_peaks(spectro_i[0], spectro_i[1])\n",
    "    features = fingerprinting.find_fingerprint(peaks_i, spectro_i[1], spectro_i[2])\n",
    "    matches = fingerprinting.get_matches(features, database.database)\n",
    "    best_match = fingerprinting.best_match(matches)\n",
    "    if best_match is not None:\n",
    "        print(best_match.name, \"by\", best_match.artist)\n",
    "    return best_match"
   ]
  },
  {
   "cell_type": "code",
   "execution_count": 8,
   "metadata": {
    "collapsed": false
   },
   "outputs": [
    {
     "name": "stdout",
     "output_type": "stream",
     "text": [
      "No microphone configuration file found, attempting to find default device..\n",
      "Using input device 'Microphone Array (Realtek High '\n",
      "Recording ended\n",
      "4428\n",
      "Counter({Boulevard of Broken Dreams: 91, Everybody Hurts: 39, Centuries: 23, Hall of Fame: 19, Castle of Glass: 19})\n",
      "Boulevard of Broken Dreams by Green Day\n"
     ]
    },
    {
     "data": {
      "text/plain": [
       "Boulevard of Broken Dreams"
      ]
     },
     "execution_count": 8,
     "metadata": {},
     "output_type": "execute_result"
    }
   ],
   "source": [
    "identify()"
   ]
  }
 ],
 "metadata": {
  "anaconda-cloud": {},
  "kernelspec": {
   "display_name": "Python [conda root]",
   "language": "python",
   "name": "conda-root-py"
  },
  "language_info": {
   "codemirror_mode": {
    "name": "ipython",
    "version": 3
   },
   "file_extension": ".py",
   "mimetype": "text/x-python",
   "name": "python",
   "nbconvert_exporter": "python",
   "pygments_lexer": "ipython3",
   "version": "3.5.2"
  }
 },
 "nbformat": 4,
 "nbformat_minor": 1
}
