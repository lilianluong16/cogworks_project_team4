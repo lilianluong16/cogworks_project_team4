{
 "cells": [
  {
   "cell_type": "code",
   "execution_count": 1,
   "metadata": {
    "collapsed": false
   },
   "outputs": [],
   "source": [
    "import audio_record\n",
    "import database\n",
    "import fingerprinting\n",
    "import song_loader"
   ]
  },
  {
   "cell_type": "code",
   "execution_count": 10,
   "metadata": {
    "collapsed": true
   },
   "outputs": [],
   "source": [
    "def train(folder=\"audio\"):\n",
    "    filepaths = train_all(folder)\n",
    "    # load songs\n",
    "    for i in filepaths:\n",
    "        s_i = song_loader.mp3_to_samparr(i)\n",
    "        name = song_loader.songpath_to_name(i)\n",
    "        artist = song_loader.songpath_to_artist(i)\n",
    "        print(s_i, name, artist)\n",
    "        spectro_i = audio_record.spectrogram(s_i)\n",
    "        peaks_i = fingerprinting.find_peaks(spectro_i[0])\n",
    "        features = fingerprinting.find_fingerprint(peaks_i, spectro_i[1], spectro_i[2])\n",
    "        # database.add_song(features, name, artist)\n",
    "        # database.write_database()"
   ]
  },
  {
   "cell_type": "code",
   "execution_count": 5,
   "metadata": {
    "collapsed": true
   },
   "outputs": [],
   "source": [
    "def identify():\n",
    "    recording = audio_record.get_recording(10)\n",
    "    # spectrogram to peak to features"
   ]
  },
  {
   "cell_type": "code",
   "execution_count": 6,
   "metadata": {
    "collapsed": false
   },
   "outputs": [],
   "source": [
    "def train_all(folder=\"audio\"):\n",
    "    return song_loader.convert_files_to_songpaths(folder)"
   ]
  },
  {
   "cell_type": "code",
   "execution_count": 11,
   "metadata": {
    "collapsed": false
   },
   "outputs": [
    {
     "name": "stdout",
     "output_type": "stream",
     "text": [
      "[ 0.          0.          0.         ..., -0.00045776 -0.00021362\n",
      " -0.00016785] 500 Miles The Proclaimers\n"
     ]
    },
    {
     "name": "stderr",
     "output_type": "stream",
     "text": [
      "C:\\Users\\Lilian\\Anaconda3\\lib\\site-packages\\matplotlib\\axes\\_axes.py:7235: RuntimeWarning: divide by zero encountered in log10\n",
      "  Z = 10. * np.log10(spec)\n"
     ]
    },
    {
     "name": "stdout",
     "output_type": "stream",
     "text": [
      "[  0.00000000e+00   0.00000000e+00   0.00000000e+00 ...,   1.52587891e-05\n",
      "   0.00000000e+00   1.52587891e-05] Boulevard of Broken Dreams Green Day\n",
      "[ 0.          0.          0.         ..., -0.0005188  -0.00067139\n",
      " -0.0004425 ] Castle of Glass Linkin Park\n",
      "[  0.00000000e+00   0.00000000e+00   0.00000000e+00 ...,   3.05175781e-05\n",
      "   3.05175781e-05   0.00000000e+00] Centuries Fall Out Boy\n",
      "[  0.00000000e+00   0.00000000e+00   0.00000000e+00 ...,  -1.52587891e-05\n",
      "  -2.59399414e-04   3.50952148e-04] Demons Imagine Dragons\n",
      "[ 0.  0.  0. ...,  0.  0.  0.] Everybody Hurts REM\n",
      "[ 0.  0.  0. ...,  0.  0.  0.] Eyes Wide Open Sabrina Carpenter\n",
      "[ 0.          0.          0.         ..., -0.00030518 -0.00030518\n",
      " -0.00028992] Hall of Fame The Script\n",
      "[ 0.  0.  0. ...,  0.  0.  0.] Hurricane Bridgit Mendler\n",
      "[  0.00000000e+00   0.00000000e+00   0.00000000e+00 ...,  -3.05175781e-05\n",
      "  -3.05175781e-05   0.00000000e+00] I Bet My Life Imagine Dragons\n",
      "[ 0.  0.  0. ...,  0.  0.  0.] In the End Linkin Park\n",
      "[ 0.  0.  0. ...,  0.  0.  0.] Losing My Religion REM\n",
      "[ 0.  0.  0. ...,  0.  0.  0.] New Divide Linkin Park\n",
      "[ 0.  0.  0. ...,  0.  0.  0.] Ready or Not Bridgit Mendler\n",
      "[ 0.          0.          0.         ...,  0.00012207  0.00015259\n",
      "  0.00022888] Set Fire to the Rain Adele\n",
      "[ 0.  0.  0. ...,  0.  0.  0.] Shut Up and Dance Walk the Moon\n",
      "[ 0.  0.  0. ...,  0.  0.  0.] Smoke and Fire Sabrina Carpenter\n",
      "[ 0.          0.          0.         ..., -0.00180054 -0.00161743\n",
      " -0.00128174] Some Nights Fun\n"
     ]
    },
    {
     "name": "stderr",
     "output_type": "stream",
     "text": [
      "C:\\Users\\Lilian\\Anaconda3\\lib\\site-packages\\matplotlib\\pyplot.py:524: RuntimeWarning: More than 20 figures have been opened. Figures created through the pyplot interface (`matplotlib.pyplot.figure`) are retained until explicitly closed and may consume too much memory. (To control this warning, see the rcParam `figure.max_open_warning`).\n",
      "  max_open_warning, RuntimeWarning)\n"
     ]
    },
    {
     "name": "stdout",
     "output_type": "stream",
     "text": [
      "[ 0.  0.  0. ...,  0.  0.  0.] The Middle of Starting Over Sabrina Carpenter\n",
      "[ 0.  0.  0. ...,  0.  0.  0.] We Are Young Fun\n",
      "[ 0.  0.  0. ...,  0.  0.  0.] We'll Be the Stars Sabrina Carpenter\n",
      "[ 0.          0.          0.         ..., -0.00634766 -0.00646973\n",
      " -0.00654602] What I've Done Linkin Park\n"
     ]
    }
   ],
   "source": [
    "train()"
   ]
  }
 ],
 "metadata": {
  "anaconda-cloud": {},
  "kernelspec": {
   "display_name": "Python [conda root]",
   "language": "python",
   "name": "conda-root-py"
  },
  "language_info": {
   "codemirror_mode": {
    "name": "ipython",
    "version": 3
   },
   "file_extension": ".py",
   "mimetype": "text/x-python",
   "name": "python",
   "nbconvert_exporter": "python",
   "pygments_lexer": "ipython3",
   "version": "3.5.2"
  }
 },
 "nbformat": 4,
 "nbformat_minor": 1
}
