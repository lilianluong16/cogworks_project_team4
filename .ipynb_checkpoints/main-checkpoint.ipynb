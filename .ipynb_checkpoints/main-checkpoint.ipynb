{
 "cells": [
  {
   "cell_type": "code",
   "execution_count": 2,
   "metadata": {
    "collapsed": false
   },
   "outputs": [],
   "source": [
    "import audio_record\n",
    "import database\n",
    "import fingerprinting"
   ]
  },
  {
   "cell_type": "code",
   "execution_count": 6,
   "metadata": {
    "collapsed": true
   },
   "outputs": [],
   "source": [
    "def train(*filepaths):\n",
    "    # load songs\n",
    "    for i in filepaths:\n",
    "        s_i = mp3_to_samparr(i)\n",
    "        spectro_i = audio_record.spectrogram(s_i)\n",
    "        peaks_i = fingerprinting.find_peaks(spectro_i)\n",
    "        features = fingerprinting.find_fingerprint(peaks_i)\n",
    "        database.add_song(features, \"\")\n",
    "        # database.add_song(features, name, artist)\n",
    "        # database.write_database()"
   ]
  },
  {
   "cell_type": "code",
   "execution_count": 4,
   "metadata": {
    "collapsed": true
   },
   "outputs": [],
   "source": [
    "def identify():\n",
    "    recording = audio_record.get_recording(10)\n",
    "    # spectrogram to peak to features"
   ]
  },
  {
   "cell_type": "code",
   "execution_count": 8,
   "metadata": {
    "collapsed": true
   },
   "outputs": [],
   "source": [
    "def mp3_to_samparr(song_path):\n",
    "    samples, fs = librosa.load(song_path, sr=44100, mono=True)\n",
    "    N = len(samples) # N represents the number of samples\n",
    "    T = N/fs   # N divided by the sampling rate (fs) gives you the total duration in seconds\n",
    "    time_arr = np.linspace(0,T,N) # time represents a numpy array of equally spaced time values\n",
    "    all_list = [samples,N,T,time_arr]\n",
    "    \n",
    "    return samples"
   ]
  },
  {
   "cell_type": "code",
   "execution_count": 7,
   "metadata": {
    "collapsed": false
   },
   "outputs": [
    {
     "name": "stdout",
     "output_type": "stream",
     "text": [
      "test\n",
      "test2\n"
     ]
    }
   ],
   "source": [
    "train(\"test\", \"test2\")"
   ]
  }
 ],
 "metadata": {
  "anaconda-cloud": {},
  "kernelspec": {
   "display_name": "Python [conda root]",
   "language": "python",
   "name": "conda-root-py"
  },
  "language_info": {
   "codemirror_mode": {
    "name": "ipython",
    "version": 3
   },
   "file_extension": ".py",
   "mimetype": "text/x-python",
   "name": "python",
   "nbconvert_exporter": "python",
   "pygments_lexer": "ipython3",
   "version": "3.5.2"
  }
 },
 "nbformat": 4,
 "nbformat_minor": 1
}
