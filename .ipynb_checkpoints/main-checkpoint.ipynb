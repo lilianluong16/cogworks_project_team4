{
 "cells": [
  {
   "cell_type": "code",
   "execution_count": 2,
   "metadata": {
    "collapsed": false
   },
   "outputs": [],
   "source": [
    "import audio_record\n",
    "import database\n",
    "import fingerprinting\n",
    "import song_loader"
   ]
  },
  {
   "cell_type": "code",
   "execution_count": 7,
   "metadata": {
    "collapsed": true
   },
   "outputs": [],
   "source": [
    "def train_single(filepath):\n",
    "    s_i = song_loader.mp3_to_samparr(filepath)\n",
    "    name = song_loader.songpath_to_name(filepath)\n",
    "    artist = song_loader.songpath_to_artist(filepath)\n",
    "    print(s_i, name, artist)\n",
    "    spectro_i = audio_record.spectrogram(s_i)\n",
    "    peaks_i = fingerprinting.find_peaks(spectro_i[0])\n",
    "    features = fingerprinting.find_fingerprint(peaks_i, spectro_i[1], spectro_i[2])\n",
    "    return name, artist, features\n",
    "\n",
    "def train(folder=\"audio\"):\n",
    "    filepaths = train_all(folder)\n",
    "    # load songs\n",
    "    for i in filepaths:\n",
    "        name, artist, features = train_single(i)\n",
    "        database.add_song(features, name, artist)\n",
    "        print(\"Adding:\", name, \"by\", artist)\n",
    "        database.write_database()"
   ]
  },
  {
   "cell_type": "code",
   "execution_count": 4,
   "metadata": {
    "collapsed": true
   },
   "outputs": [],
   "source": [
    "def identify():\n",
    "    recording = audio_record.get_recording(10)\n",
    "    peaks = fingerprinting.find_peaks(recording[0])\n",
    "    features = fingerprinting.find_fingerprint(peaks, recording[1], recording[2])\n",
    "    # spectrogram to peak to features"
   ]
  },
  {
   "cell_type": "code",
   "execution_count": 5,
   "metadata": {
    "collapsed": false
   },
   "outputs": [],
   "source": [
    "def train_all(folder=\"audio\"):\n",
    "    return song_loader.convert_files_to_songpaths(folder)"
   ]
  },
  {
   "cell_type": "code",
   "execution_count": 8,
   "metadata": {
    "collapsed": false
   },
   "outputs": [
    {
     "name": "stdout",
     "output_type": "stream",
     "text": [
      "[ 0.          0.          0.         ..., -0.00045776 -0.00021362\n",
      " -0.00016785] 500 Miles The Proclaimers\n"
     ]
    },
    {
     "name": "stderr",
     "output_type": "stream",
     "text": [
      "C:\\Users\\Lilian\\Anaconda3\\lib\\site-packages\\matplotlib\\axes\\_axes.py:7235: RuntimeWarning: divide by zero encountered in log10\n",
      "  Z = 10. * np.log10(spec)\n"
     ]
    },
    {
     "ename": "NameError",
     "evalue": "name 'S' is not defined",
     "output_type": "error",
     "traceback": [
      "\u001b[0;31m---------------------------------------------------------------------------\u001b[0m",
      "\u001b[0;31mNameError\u001b[0m                                 Traceback (most recent call last)",
      "\u001b[0;32m<ipython-input-8-26408f0e52d7>\u001b[0m in \u001b[0;36m<module>\u001b[0;34m()\u001b[0m\n\u001b[0;32m----> 1\u001b[0;31m \u001b[0mtrain_single\u001b[0m\u001b[1;33m(\u001b[0m\u001b[0mtrain_all\u001b[0m\u001b[1;33m(\u001b[0m\u001b[1;34m\"audio\"\u001b[0m\u001b[1;33m)\u001b[0m\u001b[1;33m[\u001b[0m\u001b[1;36m0\u001b[0m\u001b[1;33m]\u001b[0m\u001b[1;33m)\u001b[0m\u001b[1;33m\u001b[0m\u001b[0m\n\u001b[0m",
      "\u001b[0;32m<ipython-input-7-ace01f9b3192>\u001b[0m in \u001b[0;36mtrain_single\u001b[0;34m(filepath)\u001b[0m\n\u001b[1;32m      5\u001b[0m     \u001b[0mprint\u001b[0m\u001b[1;33m(\u001b[0m\u001b[0ms_i\u001b[0m\u001b[1;33m,\u001b[0m \u001b[0mname\u001b[0m\u001b[1;33m,\u001b[0m \u001b[0martist\u001b[0m\u001b[1;33m)\u001b[0m\u001b[1;33m\u001b[0m\u001b[0m\n\u001b[1;32m      6\u001b[0m     \u001b[0mspectro_i\u001b[0m \u001b[1;33m=\u001b[0m \u001b[0maudio_record\u001b[0m\u001b[1;33m.\u001b[0m\u001b[0mspectrogram\u001b[0m\u001b[1;33m(\u001b[0m\u001b[0ms_i\u001b[0m\u001b[1;33m)\u001b[0m\u001b[1;33m\u001b[0m\u001b[0m\n\u001b[0;32m----> 7\u001b[0;31m     \u001b[0mpeaks_i\u001b[0m \u001b[1;33m=\u001b[0m \u001b[0mfingerprinting\u001b[0m\u001b[1;33m.\u001b[0m\u001b[0mfind_peaks\u001b[0m\u001b[1;33m(\u001b[0m\u001b[0mspectro_i\u001b[0m\u001b[1;33m[\u001b[0m\u001b[1;36m0\u001b[0m\u001b[1;33m]\u001b[0m\u001b[1;33m)\u001b[0m\u001b[1;33m\u001b[0m\u001b[0m\n\u001b[0m\u001b[1;32m      8\u001b[0m     \u001b[0mfeatures\u001b[0m \u001b[1;33m=\u001b[0m \u001b[0mfingerprinting\u001b[0m\u001b[1;33m.\u001b[0m\u001b[0mfind_fingerprint\u001b[0m\u001b[1;33m(\u001b[0m\u001b[0mpeaks_i\u001b[0m\u001b[1;33m,\u001b[0m \u001b[0mspectro_i\u001b[0m\u001b[1;33m[\u001b[0m\u001b[1;36m1\u001b[0m\u001b[1;33m]\u001b[0m\u001b[1;33m,\u001b[0m \u001b[0mspectro_i\u001b[0m\u001b[1;33m[\u001b[0m\u001b[1;36m2\u001b[0m\u001b[1;33m]\u001b[0m\u001b[1;33m)\u001b[0m\u001b[1;33m\u001b[0m\u001b[0m\n\u001b[1;32m      9\u001b[0m     \u001b[1;32mreturn\u001b[0m \u001b[0mname\u001b[0m\u001b[1;33m,\u001b[0m \u001b[0martist\u001b[0m\u001b[1;33m,\u001b[0m \u001b[0mfeatures\u001b[0m\u001b[1;33m\u001b[0m\u001b[0m\n",
      "\u001b[0;32mC:\\Users\\Lilian\\cogfinal\\fingerprinting.py\u001b[0m in \u001b[0;36mfind_peaks\u001b[0;34m(song)\u001b[0m\n\u001b[1;32m     39\u001b[0m     \u001b[0mneighborhood\u001b[0m \u001b[1;33m=\u001b[0m \u001b[0miterate_structure\u001b[0m\u001b[1;33m(\u001b[0m\u001b[0mstruct\u001b[0m\u001b[1;33m,\u001b[0m \u001b[1;36m20\u001b[0m\u001b[1;33m)\u001b[0m  \u001b[1;31m# this incorporates roughly 20 nearest neighbors\u001b[0m\u001b[1;33m\u001b[0m\u001b[0m\n\u001b[1;32m     40\u001b[0m     \u001b[1;31m#finds foreground\u001b[0m\u001b[1;33m\u001b[0m\u001b[1;33m\u001b[0m\u001b[0m\n\u001b[0;32m---> 41\u001b[0;31m     \u001b[0mys\u001b[0m\u001b[1;33m,\u001b[0m \u001b[0mxs\u001b[0m \u001b[1;33m=\u001b[0m \u001b[0mnp\u001b[0m\u001b[1;33m.\u001b[0m\u001b[0mhistogram\u001b[0m\u001b[1;33m(\u001b[0m\u001b[0mS\u001b[0m\u001b[1;33m.\u001b[0m\u001b[0mflatten\u001b[0m\u001b[1;33m(\u001b[0m\u001b[1;33m)\u001b[0m\u001b[1;33m,\u001b[0m \u001b[0mbins\u001b[0m\u001b[1;33m=\u001b[0m\u001b[0mlen\u001b[0m\u001b[1;33m(\u001b[0m\u001b[0mfreqs\u001b[0m\u001b[1;33m)\u001b[0m\u001b[1;33m//\u001b[0m\u001b[1;36m2\u001b[0m\u001b[1;33m,\u001b[0m \u001b[0mnormed\u001b[0m\u001b[1;33m=\u001b[0m\u001b[1;32mTrue\u001b[0m\u001b[1;33m)\u001b[0m\u001b[1;33m\u001b[0m\u001b[0m\n\u001b[0m\u001b[1;32m     42\u001b[0m     \u001b[0mdx\u001b[0m \u001b[1;33m=\u001b[0m \u001b[0mxs\u001b[0m\u001b[1;33m[\u001b[0m\u001b[1;33m-\u001b[0m\u001b[1;36m1\u001b[0m\u001b[1;33m]\u001b[0m \u001b[1;33m-\u001b[0m \u001b[0mxs\u001b[0m\u001b[1;33m[\u001b[0m\u001b[1;33m-\u001b[0m\u001b[1;36m2\u001b[0m\u001b[1;33m]\u001b[0m\u001b[1;33m\u001b[0m\u001b[0m\n\u001b[1;32m     43\u001b[0m     \u001b[0mcdf\u001b[0m \u001b[1;33m=\u001b[0m \u001b[0mnp\u001b[0m\u001b[1;33m.\u001b[0m\u001b[0mcumsum\u001b[0m\u001b[1;33m(\u001b[0m\u001b[0mys\u001b[0m\u001b[1;33m)\u001b[0m\u001b[1;33m*\u001b[0m\u001b[0mdx\u001b[0m  \u001b[1;31m# this gives you the cumulative distribution of amplitudes\u001b[0m\u001b[1;33m\u001b[0m\u001b[0m\n",
      "\u001b[0;31mNameError\u001b[0m: name 'S' is not defined"
     ]
    }
   ],
   "source": [
    "train_single(train_all(\"audio\")[0])"
   ]
  }
 ],
 "metadata": {
  "anaconda-cloud": {},
  "kernelspec": {
   "display_name": "Python [conda root]",
   "language": "python",
   "name": "conda-root-py"
  },
  "language_info": {
   "codemirror_mode": {
    "name": "ipython",
    "version": 3
   },
   "file_extension": ".py",
   "mimetype": "text/x-python",
   "name": "python",
   "nbconvert_exporter": "python",
   "pygments_lexer": "ipython3",
   "version": "3.5.2"
  }
 },
 "nbformat": 4,
 "nbformat_minor": 1
}
