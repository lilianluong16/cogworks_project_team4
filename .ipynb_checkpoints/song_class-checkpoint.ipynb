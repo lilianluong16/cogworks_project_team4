{
 "cells": [
  {
   "cell_type": "code",
   "execution_count": 38,
   "metadata": {
    "collapsed": true
   },
   "outputs": [],
   "source": [
    "\"\"\"\"This Song class is useful for storing songs in our database as objects and allows for quick retrieval of the song's name,\n",
    "artist and path\n",
    "\n",
    "\n",
    "NOTE: When creating an instance of the Song class, an 'r' must be placed in front of the song path, which is the third parameter\n",
    "in the initialization function\n",
    " \"\"\"\n",
    "\n",
    "class Song:\n",
    "    def __init__(self,nm,artst,sng_pth):\n",
    "        self.name = nm\n",
    "        self.artist = artst\n",
    "        self.song_path = sng_pth\n",
    "    \n",
    "    def __repr__(self):\n",
    "        return self.name\n",
    "    \n",
    "    def show_Artist(self):\n",
    "        return self.artist\n",
    "    \n",
    "    def show_Song_Path(self):\n",
    "        return self.song_path\n",
    "    "
   ]
  },
  {
   "cell_type": "code",
   "execution_count": 39,
   "metadata": {
    "collapsed": false
   },
   "outputs": [
    {
     "data": {
      "text/plain": [
       "'C:\\\\Users\\\\Mint\\\\Documents\\\\MIT BeaverWorks Cognitive Assistant\\\\Songs\\\\Sugar.mp3'"
      ]
     },
     "execution_count": 39,
     "metadata": {},
     "output_type": "execute_result"
    }
   ],
   "source": [
    "# r'C:\\Users\\Mint\\Documents\\MIT BeaverWorks Cognitive Assistant\\Songs\\Sugar.mp3'\n",
    "new_song = Song(\"Sugar\",r'C:\\Users\\Mint\\Documents\\MIT BeaverWorks Cognitive Assistant\\Songs\\Sugar.mp3')\n",
    "\n",
    "new_song.show_Song_Path()\n"
   ]
  },
  {
   "cell_type": "code",
   "execution_count": null,
   "metadata": {
    "collapsed": true
   },
   "outputs": [],
   "source": []
  }
 ],
 "metadata": {
  "anaconda-cloud": {},
  "kernelspec": {
   "display_name": "Python [conda root]",
   "language": "python",
   "name": "conda-root-py"
  },
  "language_info": {
   "codemirror_mode": {
    "name": "ipython",
    "version": 3
   },
   "file_extension": ".py",
   "mimetype": "text/x-python",
   "name": "python",
   "nbconvert_exporter": "python",
   "pygments_lexer": "ipython3",
   "version": "3.5.2"
  }
 },
 "nbformat": 4,
 "nbformat_minor": 1
}
