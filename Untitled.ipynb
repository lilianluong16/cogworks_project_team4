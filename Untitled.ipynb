{
 "cells": [
  {
   "cell_type": "code",
   "execution_count": 1,
   "metadata": {
    "collapsed": true
   },
   "outputs": [],
   "source": [
    "import audio_record\n",
    "import fingerprinting\n",
    "import database\n",
    "import song_loader\n",
    "from IPython.display import Audio"
   ]
  },
  {
   "cell_type": "code",
   "execution_count": 2,
   "metadata": {
    "collapsed": false
   },
   "outputs": [],
   "source": [
    "def identify():\n",
    "    song = audio_record.record(10)\n",
    "    Audio(song, rate=44100)\n",
    "    spectro_i = audio_record.spectrogram(song)\n",
    "    \"\"\"\n",
    "    filepath = \"audio/500 Miles_The Proclaimers.mp3\"\n",
    "    s_i = song_loader.mp3_to_samparr(filepath)[1000:1000000]\n",
    "    name = song_loader.songpath_to_name(filepath)\n",
    "    artist = song_loader.songpath_to_artist(filepath)\n",
    "    spectro_i = audio_record.spectrogram(s_i)\n",
    "    \"\"\"\n",
    "    peaks_i = fingerprinting.find_peaks(spectro_i[0], spectro_i[1])\n",
    "    features = fingerprinting.find_fingerprint(peaks_i, spectro_i[1], spectro_i[2])\n",
    "    matches = fingerprinting.get_matches(features, database.database)\n",
    "    best_match = fingerprinting.best_match(matches)\n",
    "    if best_match is not None:\n",
    "        print(best_match.name, \"by\", best_match.artist)\n",
    "    return best_match\n",
    "    "
   ]
  },
  {
   "cell_type": "code",
   "execution_count": 6,
   "metadata": {
    "collapsed": false,
    "scrolled": true
   },
   "outputs": [
    {
     "name": "stdout",
     "output_type": "stream",
     "text": [
      "No microphone configuration file found, attempting to find default device..\n",
      "Using input device 'Microphone Array (Realtek High '\n",
      "Recording ended\n",
      "Counter({Everybody Hurts: 94, Boulevard of Broken Dreams: 16, Castle of Glass: 15, Centuries: 14, Hall of Fame: 10})\n",
      "Everybody Hurts by REM\n"
     ]
    },
    {
     "data": {
      "text/plain": [
       "Everybody Hurts"
      ]
     },
     "execution_count": 6,
     "metadata": {},
     "output_type": "execute_result"
    }
   ],
   "source": [
    "identify()"
   ]
  },
  {
   "cell_type": "code",
   "execution_count": null,
   "metadata": {
    "collapsed": true
   },
   "outputs": [],
   "source": []
  }
 ],
 "metadata": {
  "anaconda-cloud": {},
  "kernelspec": {
   "display_name": "Python [conda root]",
   "language": "python",
   "name": "conda-root-py"
  },
  "language_info": {
   "codemirror_mode": {
    "name": "ipython",
    "version": 3
   },
   "file_extension": ".py",
   "mimetype": "text/x-python",
   "name": "python",
   "nbconvert_exporter": "python",
   "pygments_lexer": "ipython3",
   "version": "3.5.2"
  }
 },
 "nbformat": 4,
 "nbformat_minor": 1
}
