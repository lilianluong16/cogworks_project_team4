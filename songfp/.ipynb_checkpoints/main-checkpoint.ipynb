{
 "cells": [
  {
   "cell_type": "code",
   "execution_count": 1,
   "metadata": {
    "collapsed": false
   },
   "outputs": [],
   "source": [
    "import audio_record\n",
    "import database\n",
    "import fingerprinting\n",
    "import song_loader"
   ]
  },
  {
   "cell_type": "code",
   "execution_count": 2,
   "metadata": {
    "collapsed": true
   },
   "outputs": [],
   "source": [
    "def train_single(filepath):\n",
    "    s_i = song_loader.mp3_to_samparr(filepath)\n",
    "    name = song_loader.songpath_to_name(filepath)\n",
    "    artist = song_loader.songpath_to_artist(filepath)\n",
    "    print(\"Fingerprinting:\", name)\n",
    "    spectro_i = audio_record.spectrogram(s_i)\n",
    "    peaks_i = fingerprinting.find_peaks(spectro_i[0], spectro_i[1])\n",
    "    features = fingerprinting.find_fingerprint(peaks_i, spectro_i[1], spectro_i[2])\n",
    "    return name, artist, features\n",
    "\n",
    "def train(folder=\"audio\"):\n",
    "    filepaths = song_loader.convert_files_to_songpaths(folder)\n",
    "    # load songs\n",
    "    for i in filepaths:\n",
    "        name, artist, features = train_single(i)\n",
    "        print(\"Adding:\", name, \"by\", artist)\n",
    "        database.add_song(features, name, artist)\n",
    "        print(\"Added:\", name, \"by\", artist)\n",
    "        database.write_database()"
   ]
  },
  {
   "cell_type": "code",
   "execution_count": 3,
   "metadata": {
    "collapsed": true
   },
   "outputs": [],
   "source": [
    "def identify():\n",
    "    song = audio_record.record(10)\n",
    "    spectro_i = audio_record.spectrogram(song)\n",
    "    peaks_i = fingerprinting.find_peaks(spectro_i[0], spectro_i[1])\n",
    "    features = fingerprinting.find_fingerprint(peaks_i, spectro_i[1], spectro_i[2])\n",
    "    matches = fingerprinting.get_matches(features, database.database)\n",
    "    best_match = fingerprinting.best_match(matches, True)\n",
    "    if best_match is not None:\n",
    "        print(best_match.name, \"by\", best_match.artist)\n",
    "    else:\n",
    "        print(\"None\")\n",
    "    return best_match"
   ]
  },
  {
   "cell_type": "code",
   "execution_count": 4,
   "metadata": {
    "collapsed": false
   },
   "outputs": [
    {
     "name": "stdout",
     "output_type": "stream",
     "text": [
      "No microphone configuration file found, attempting to find default device..\n",
      "Using input device 'Microphone Array (Realtek High '\n",
      "Recording ended\n",
      "Counter({(Set Fire to the Rain, 3500): 3, (Everybody Hurts, 4103): 3, (Castle of Glass, 1761): 3, (Boulevard of Broken Dreams, 930): 3, (What I've Done, 2901): 2, (Boulevard of Broken Dreams, 820): 2, (In the End, 1951): 2, (Everybody Hurts, 7162): 2, (Boulevard of Broken Dreams, 1740): 2, (I Bet My Life, 538): 1, (Set Fire to the Rain, 1569): 1, (I Bet My Life, 3395): 1, (What I've Done, 1578): 1, (In the End, 2885): 1, (What I've Done, 3970): 1, (In the End, 829): 1, (What I've Done, 1988): 1, (In the End, 383): 1, (What I've Done, 1317): 1, (What I've Done, 2258): 1, (Boulevard of Broken Dreams, 1762): 1, (Centuries, 4387): 1, (Set Fire to the Rain, 1748): 1, (Boulevard of Broken Dreams, 2216): 1, (Set Fire to the Rain, 2971): 1, (Everybody Hurts, 3168): 1, (I Bet My Life, 2328): 1, (Set Fire to the Rain, 3725): 1, (Everybody Hurts, 5254): 1, (Set Fire to the Rain, 1047): 1, (Everybody Hurts, 5422): 1, (What I've Done, 4224): 1, (Hall of Fame, 3962): 1, (I Bet My Life, 907): 1, (Hall of Fame, 3401): 1, (Hall of Fame, 2271): 1, (I Bet My Life, 2258): 1, (In the End, 1859): 1, (Set Fire to the Rain, 2499): 1, (What I've Done, 1907): 1, (Centuries, 4543): 1, (Centuries, 4323): 1, (In the End, 3131): 1, (Set Fire to the Rain, 1618): 1, (Shut Up and Dance, 747): 1, (Everybody Hurts, 6594): 1, (Set Fire to the Rain, 3578): 1, (Everybody Hurts, 4573): 1, (Castle of Glass, 2741): 1, (What I've Done, 2908): 1, (Shut Up and Dance, 3789): 1, (Shut Up and Dance, 886): 1, (Boulevard of Broken Dreams, 110): 1, (Hall of Fame, 974): 1, (Shut Up and Dance, 1326): 1, (In the End, 594): 1, (Set Fire to the Rain, 3389): 1, (Boulevard of Broken Dreams, 1390): 1, (Castle of Glass, 2612): 1, (Shut Up and Dance, 3619): 1, (Shut Up and Dance, 2882): 1, (I Bet My Life, 1563): 1, (Everybody Hurts, 6739): 1, (What I've Done, 577): 1, (Boulevard of Broken Dreams, 2260): 1, (Hall of Fame, 3604): 1, (Boulevard of Broken Dreams, 3250): 1, (Centuries, 1173): 1, (Shut Up and Dance, 2433): 1, (Boulevard of Broken Dreams, 1246): 1, (I Bet My Life, 1071): 1, (What I've Done, 1692): 1, (Centuries, 2665): 1, (Set Fire to the Rain, 4247): 1, (Everybody Hurts, 3442): 1, (Boulevard of Broken Dreams, 734): 1, (Everybody Hurts, 686): 1, (Boulevard of Broken Dreams, 1450): 1, (I Bet My Life, 540): 1, (Everybody Hurts, 1461): 1, (Set Fire to the Rain, 4371): 1, (Set Fire to the Rain, 3589): 1, (I Bet My Life, 2841): 1, (In the End, 1965): 1, (Everybody Hurts, 5709): 1, (What I've Done, 3759): 1, (Everybody Hurts, 8): 1, (Boulevard of Broken Dreams, 1475): 1, (Centuries, 386): 1, (Centuries, 182): 1, (Hall of Fame, 3758): 1, (Shut Up and Dance, 1627): 1, (I Bet My Life, 318): 1, (Centuries, 2062): 1, (What I've Done, 2745): 1, (Everybody Hurts, 468): 1, (Hall of Fame, 3585): 1, (Shut Up and Dance, 3857): 1, (What I've Done, 117): 1, (Castle of Glass, 2851): 1, (I Bet My Life, 3953): 1, (I Bet My Life, 3815): 1, (Set Fire to the Rain, 1062): 1, (Castle of Glass, 480): 1, (Centuries, 4057): 1, (In the End, 2453): 1, (Centuries, 13): 1, (What I've Done, 592): 1, (Shut Up and Dance, 2872): 1, (Boulevard of Broken Dreams, 2132): 1, (In the End, 3601): 1, (Boulevard of Broken Dreams, 4040): 1, (Shut Up and Dance, 2440): 1, (In the End, 70): 1, (Boulevard of Broken Dreams, 1363): 1, (Hall of Fame, 3051): 1, (Hall of Fame, 215): 1, (Centuries, 4580): 1, (Hall of Fame, 1868): 1, (Set Fire to the Rain, 566): 1, (Shut Up and Dance, 1050): 1, (In the End, 3024): 1, (Shut Up and Dance, 3475): 1, (Centuries, 2369): 1, (Set Fire to the Rain, 765): 1, (Boulevard of Broken Dreams, 2855): 1, (Boulevard of Broken Dreams, 2899): 1, (In the End, 92): 1, (What I've Done, 2459): 1, (Boulevard of Broken Dreams, 2579): 1, (Set Fire to the Rain, 4186): 1, (What I've Done, 3142): 1, (Set Fire to the Rain, 2830): 1, (Hall of Fame, 3052): 1, (In the End, 3725): 1, (In the End, 3643): 1, (What I've Done, 2097): 1, (Castle of Glass, 3566): 1, (Everybody Hurts, 4560): 1, (In the End, 1289): 1, (Everybody Hurts, 5977): 1, (In the End, 104): 1, (What I've Done, 4056): 1, (Centuries, 4719): 1, (Hall of Fame, 3998): 1, (In the End, 4387): 1, (Boulevard of Broken Dreams, 5293): 1, (Shut Up and Dance, 3190): 1, (Hall of Fame, 4015): 1, (Hall of Fame, 261): 1, (Everybody Hurts, 23): 1, (Set Fire to the Rain, 1085): 1, (I Bet My Life, 3835): 1, (In the End, 1891): 1, (What I've Done, 3881): 1, (Boulevard of Broken Dreams, 4256): 1, (I Bet My Life, 1212): 1, (Shut Up and Dance, 3845): 1, (In the End, 4228): 1, (Hall of Fame, 1180): 1, (Boulevard of Broken Dreams, 434): 1, (Everybody Hurts, 7188): 1, (Boulevard of Broken Dreams, 3568): 1, (What I've Done, 2800): 1, (I Bet My Life, 3224): 1, (Castle of Glass, 113): 1, (What I've Done, 3890): 1, (I Bet My Life, 2711): 1, (What I've Done, 3903): 1, (What I've Done, 2560): 1, (Everybody Hurts, 46): 1, (In the End, 1971): 1, (Castle of Glass, 3881): 1, (Boulevard of Broken Dreams, 3603): 1, (Everybody Hurts, 149): 1, (In the End, 1153): 1, (What I've Done, 2639): 1, (Centuries, 876): 1, (Everybody Hurts, 1183): 1, (I Bet My Life, 594): 1, (What I've Done, 2087): 1, (In the End, 1946): 1, (What I've Done, 2688): 1, (What I've Done, 2857): 1, (In the End, 4039): 1, (Centuries, 2610): 1})\n",
      "[((Set Fire to the Rain, 3500), 3)]\n"
     ]
    }
   ],
   "source": [
    "identify()"
   ]
  }
 ],
 "metadata": {
  "anaconda-cloud": {},
  "kernelspec": {
   "display_name": "Python [conda root]",
   "language": "python",
   "name": "conda-root-py"
  },
  "language_info": {
   "codemirror_mode": {
    "name": "ipython",
    "version": 3
   },
   "file_extension": ".py",
   "mimetype": "text/x-python",
   "name": "python",
   "nbconvert_exporter": "python",
   "pygments_lexer": "ipython3",
   "version": "3.5.2"
  }
 },
 "nbformat": 4,
 "nbformat_minor": 1
}
