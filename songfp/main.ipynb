{
 "cells": [
  {
   "cell_type": "code",
   "execution_count": 1,
   "metadata": {},
   "outputs": [],
   "source": [
    "from Song_FP import *"
   ]
  },
  {
   "cell_type": "code",
   "execution_count": 3,
   "metadata": {
    "collapsed": true
   },
   "outputs": [],
   "source": [
    "def train_single(filepath):\n",
    "    s_i = song_loader.mp3_to_samparr(filepath)\n",
    "    name = song_loader.songpath_to_name(filepath)\n",
    "    artist = song_loader.songpath_to_artist(filepath)\n",
    "    print(\"Fingerprinting:\", name)\n",
    "    spectro_i = audio_record.spectrogram(s_i)\n",
    "    peaks_i = fingerprinting.find_peaks(spectro_i[0], spectro_i[1])\n",
    "    features = fingerprinting.find_fingerprint(peaks_i, spectro_i[1], spectro_i[2])\n",
    "    return name, artist, features\n",
    "\n",
    "def train(folder=\"audio\"):\n",
    "    filepaths = song_loader.convert_files_to_songpaths(folder)\n",
    "    # load songs\n",
    "    for i in filepaths:\n",
    "        name, artist, features = train_single(i)\n",
    "        print(\"Adding:\", name, \"by\", artist)\n",
    "        database.add_song(features, name, artist)\n",
    "        print(\"Added:\", name, \"by\", artist)\n",
    "        database.write_database()"
   ]
  },
  {
   "cell_type": "code",
   "execution_count": 4,
   "metadata": {
    "collapsed": true
   },
   "outputs": [],
   "source": [
    "def identify():\n",
    "    song = audio_record.record(10)\n",
    "    spectro_i = audio_record.spectrogram(song)\n",
    "    peaks_i = fingerprinting.find_peaks(spectro_i[0], spectro_i[1])\n",
    "    features = fingerprinting.find_fingerprint(peaks_i, spectro_i[1], spectro_i[2])\n",
    "    matches = fingerprinting.get_matches(features, database.database)\n",
    "    best_match = fingerprinting.best_match(matches, True)\n",
    "    if best_match is not None:\n",
    "        print(best_match.name, \"by\", best_match.artist)\n",
    "    else:\n",
    "        print(\"None\")\n",
    "    return best_match"
   ]
  },
  {
   "cell_type": "code",
   "execution_count": 2,
   "metadata": {},
   "outputs": [
    {
     "name": "stdout",
     "output_type": "stream",
     "text": [
      "Using input device 'Microphone Array (Realtek High'\n",
      "Recording ended\n"
     ]
    }
   ],
   "source": [
    "identify()"
   ]
  },
  {
   "cell_type": "code",
   "execution_count": 4,
   "metadata": {},
   "outputs": [
    {
     "ename": "NameError",
     "evalue": "name 'initialize' is not defined",
     "output_type": "error",
     "traceback": [
      "\u001b[1;31m---------------------------------------------------------------------------\u001b[0m",
      "\u001b[1;31mNameError\u001b[0m                                 Traceback (most recent call last)",
      "\u001b[1;32m<ipython-input-4-da529b260d4f>\u001b[0m in \u001b[0;36m<module>\u001b[1;34m()\u001b[0m\n\u001b[1;32m----> 1\u001b[1;33m \u001b[0minitialize\u001b[0m\u001b[1;33m(\u001b[0m\u001b[1;33m)\u001b[0m\u001b[1;33m\u001b[0m\u001b[0m\n\u001b[0m",
      "\u001b[1;31mNameError\u001b[0m: name 'initialize' is not defined"
     ]
    }
   ],
   "source": [
    "initialize()"
   ]
  },
  {
   "cell_type": "code",
   "execution_count": null,
   "metadata": {
    "collapsed": true
   },
   "outputs": [],
   "source": []
  }
 ],
 "metadata": {
  "anaconda-cloud": {},
  "kernelspec": {
   "display_name": "Python 3",
   "language": "python",
   "name": "python3"
  },
  "language_info": {
   "codemirror_mode": {
    "name": "ipython",
    "version": 3
   },
   "file_extension": ".py",
   "mimetype": "text/x-python",
   "name": "python",
   "nbconvert_exporter": "python",
   "pygments_lexer": "ipython3",
   "version": "3.6.1"
  }
 },
 "nbformat": 4,
 "nbformat_minor": 1
}
