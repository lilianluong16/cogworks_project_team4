{
 "cells": [
  {
   "cell_type": "code",
   "execution_count": null,
   "metadata": {
    "collapsed": true
   },
   "outputs": [],
   "source": [
    "import numpy as np\n",
    "import matplotlib.pyplot as plt\n",
    "import matplotlib.patches as patches\n",
    "import ImageLoader"
   ]
  },
  {
   "cell_type": "code",
   "execution_count": 2,
   "metadata": {
    "collapsed": true
   },
   "outputs": [],
   "source": [
    "def calc_dist(test, data):\n",
    "    \"\"\"\n",
    "    Calculates the L2 distance between two feature vectors.\n",
    "    \n",
    "    Parameters\n",
    "    ----------\n",
    "    test: numpy array, shape (N,)\n",
    "    data: numpy array, shape (N,)\n",
    "    \n",
    "    Returns\n",
    "    -------\n",
    "    float\n",
    "    \"\"\"\n",
    "    return np.sqrt(np.sum((test - data)**2))"
   ]
  },
  {
   "cell_type": "code",
   "execution_count": 9,
   "metadata": {
    "collapsed": true
   },
   "outputs": [],
   "source": [
    "def is_face(test_desc, profile_mean, threshold):\n",
    "    \"\"\"\n",
    "    Determines whether or not a descriptor is close enough to a face,\n",
    "    returning False if the L2 distance is greater than the threshold.\n",
    "    \n",
    "    Parameters\n",
    "    ----------\n",
    "    test_desc: numpy array, shape (N,)\n",
    "        The descriptor of the unknown face being tested.\n",
    "    profile_mean: numpy array, shape (N,)\n",
    "        The mean of descriptors for the profile being tested.\n",
    "    threshold: numerical value (int, float)\n",
    "        The maximum L2 distance accepted as a match.\n",
    "        \n",
    "    Returns\n",
    "    -------\n",
    "    float, if L2 distance is less than the threshold\n",
    "    False, otherwise\n",
    "    \"\"\"\n",
    "    l2d = calc_dist(test_desc, profile_mean)\n",
    "    if l2d < threshold:\n",
    "        return l2d\n",
    "    return False"
   ]
  },
  {
   "cell_type": "code",
   "execution_count": 30,
   "metadata": {
    "collapsed": true
   },
   "outputs": [],
   "source": [
    "def find_face(desc, database, threshold=200, face_thres=0):\n",
    "    \"\"\"\n",
    "    Compares a test descriptor to all faces in a database and determines the best match, if any.\n",
    "    \n",
    "    Parameters\n",
    "    ----------\n",
    "    desc: numpy array, shape (N,)\n",
    "        The descriptor of the unknown face being tested.\n",
    "    database: dictionary\n",
    "        The database containing name keys and a list of descriptor vectors as well as the mean.\n",
    "    threshold: numerical value (int, float)\n",
    "        The maximum L2 distance accepted as a face match.\n",
    "    face_thres: numerical value (int, float)\n",
    "        The minimum distance between the top two matches to count a match.\n",
    "        \n",
    "    Returns\n",
    "    -------\n",
    "    string, representing the name/key if a match is found\n",
    "    False, otherwise\n",
    "    \"\"\"\n",
    "    matches = []\n",
    "    for key, data in database.items():\n",
    "        i_f = is_face(desc, data[1], threshold)\n",
    "        if i_f is not False:\n",
    "            matches.append((key, i_f))\n",
    "    if len(matches) == 0:\n",
    "        return False\n",
    "    if len(matches) == 1:\n",
    "        return matches[0][0]\n",
    "    matches = sorted(matches, key=lambda x: x[1])\n",
    "    if matches[1][1] - matches[0][1] > face_thres:\n",
    "        return matches[0][0]\n",
    "    return False"
   ]
  },
  {
   "cell_type": "code",
   "execution_count": 33,
   "metadata": {
    "collapsed": true
   },
   "outputs": [],
   "source": [
    "def compare_faces(detections, descriptors, img, database):\n",
    "    \"\"\"\n",
    "    Compares each face with the database.\n",
    "    \"\"\"\n",
    "    people = []\n",
    "    for d in descriptors:\n",
    "        result = find_face(d, database)\n",
    "        people.append(result)\n",
    "    \n",
    "    fig,ax = plt.subplots()\n",
    "    ax.imshow(img)\n",
    "    for b in detections:\n",
    "        ax.add_patch(b)\n",
    "    plt.show()"
   ]
  },
  {
   "cell_type": "code",
   "execution_count": 10,
   "metadata": {
    "collapsed": false
   },
   "outputs": [
    {
     "name": "stdout",
     "output_type": "stream",
     "text": [
      "{'Lilian Luong': [[], array([5, 8, 9, 4, 6])], 'Name 3': [[], array([14, 16,  2,  1,  7])], 'Name 2': [[], array([ 3,  0, 19, 19,  3])]}\n",
      "[  6.55244126  19.49660309   8.13228505  10.01179718   7.4907627 ]\n",
      "611.799338987\n",
      "False\n"
     ]
    }
   ],
   "source": [
    "test_db = {\"Lilian Luong\": [[], np.array([5, 8, 9, 4, 6])],\n",
    "           \"Name 2\": [[], np.array([3, 0, 19, 19, 3])],\n",
    "           \"Name 3\": [[], np.array([14, 16, 2, 1, 7])]}\n",
    "\n",
    "test_des = np.random.random(5) * 20\n",
    "\n",
    "print(test_db)\n",
    "print(test_des)\n",
    "\n",
    "print(is_face(test_des, test_db[\"Name 2\"][1], 100))"
   ]
  },
  {
   "cell_type": "code",
   "execution_count": 31,
   "metadata": {
    "collapsed": false
   },
   "outputs": [
    {
     "name": "stdout",
     "output_type": "stream",
     "text": [
      "173.698964552\n",
      "186.750620748\n",
      "611.799338987\n",
      "Lilian Luong\n"
     ]
    }
   ],
   "source": []
  }
 ],
 "metadata": {
  "anaconda-cloud": {},
  "kernelspec": {
   "display_name": "Python [conda root]",
   "language": "python",
   "name": "conda-root-py"
  },
  "language_info": {
   "codemirror_mode": {
    "name": "ipython",
    "version": 3
   },
   "file_extension": ".py",
   "mimetype": "text/x-python",
   "name": "python",
   "nbconvert_exporter": "python",
   "pygments_lexer": "ipython3",
   "version": "3.5.2"
  }
 },
 "nbformat": 4,
 "nbformat_minor": 1
}
