{
 "cells": [
  {
   "cell_type": "code",
   "execution_count": 1,
   "metadata": {
    "collapsed": false
   },
   "outputs": [
    {
     "name": "stdout",
     "output_type": "stream",
     "text": [
      "Configuration saved: \n",
      "\tport: 1, exposure 0.5 (sec)\n"
     ]
    }
   ],
   "source": [
    "import ImageLoader\n",
    "import ImageCompare\n",
    "import database\n",
    "import numpy as np\n",
    "import matplotlib.pyplot as plt\n",
    "import matplotlib.patches as patches\n",
    "from os import listdir\n",
    "from os.path import isfile, join\n",
    "from collections import Counter\n",
    "%matplotlib notebook"
   ]
  },
  {
   "cell_type": "code",
   "execution_count": 16,
   "metadata": {
    "collapsed": true
   },
   "outputs": [],
   "source": [
    "def retrieve_filepaths(directory_name):          # WORKS\n",
    "    \"\"\"\n",
    "    ACCEPTS: a single string that represents the directory which contains ALL of your songs.\n",
    "\n",
    "    SIDE NOTE: The songs in this directory are in the following format:\n",
    "        Name_Artist.mp3\n",
    "    \n",
    "    RETURNS: A list of strings that represent the file paths of each song\n",
    "    \"\"\"\n",
    "    onlyfiles = [f for f in listdir(directory_name) if isfile(join(directory_name, f))]\n",
    "    str_of_filepaths = []\n",
    "\n",
    "    for i in range(len(onlyfiles)):\n",
    "        str_of_filepaths.append(directory_name + '\\\\' +onlyfiles[i])\n",
    "\n",
    "    return str_of_filepaths"
   ]
  },
  {
   "cell_type": "code",
   "execution_count": 17,
   "metadata": {
    "collapsed": true
   },
   "outputs": [],
   "source": [
    "def load_images(filenames):\n",
    "    \"\"\"\n",
    "    Loads images from file and returns images for each identifiable person as well as corresponding descriptor vectors.\n",
    "    \n",
    "    Parameters\n",
    "    ----------\n",
    "    filenames: list of strings\n",
    "        Paths to each file to be loaded.\n",
    "    \n",
    "    Returns\n",
    "    -------\n",
    "    images: list of numpy arrays\n",
    "    descs: list of numpy arrays\n",
    "        Descriptors of each image, corresponding to images array.\n",
    "    \"\"\"\n",
    "    images = []\n",
    "    descs = []\n",
    "    for fn in filenames:\n",
    "        print(\"Loading:\", fn)\n",
    "        img = ImageLoader.get_img_from_file(fn)\n",
    "        det = ImageLoader.find_faces(img)\n",
    "        des = ImageLoader.find_descriptors(img, det)\n",
    "        for i in range(len(det)):\n",
    "            print(\"Adding:\", fn, i)\n",
    "            images.append(img)\n",
    "            descs.append(des[i])\n",
    "    return images, descs"
   ]
  },
  {
   "cell_type": "code",
   "execution_count": 18,
   "metadata": {
    "collapsed": false
   },
   "outputs": [],
   "source": [
    "def cluster(images, descs, threshold=0.5, iters=300):\n",
    "    \"\"\"\n",
    "    Clusters images based on who is in them, using a graph and whisper algorithm, then displays them.\n",
    "    \n",
    "    Parameters\n",
    "    ----------\n",
    "    images: list of numpy arrays\n",
    "        List of images to be sorted.\n",
    "    descs: list of numpy arrays, shape (128,)\n",
    "        List of descriptor vectors.\n",
    "    threshold: float\n",
    "        The maximum L2 distance between two images to be classified as a match.\n",
    "    iters: int\n",
    "        The number of times the whisper algorithm should run.\n",
    "        \n",
    "    Returns\n",
    "    -------\n",
    "    True\n",
    "    \"\"\"\n",
    "    d_descs = np.array(descs)\n",
    "    distances = np.sqrt(np.sum(d_descs**2, axis=1, keepdims=True) \n",
    "                   + np.sum(d_descs**2, axis=1) \n",
    "                   - 2*np.dot(d_descs, d_descs.T)\n",
    "                   )\n",
    "    distances[np.arange(len(descs)), np.arange(len(descs))] = 0\n",
    "    condition = distances > 0.5\n",
    "    distances[condition] = 0\n",
    "    where = np.where(distances > 0)\n",
    "    distances[where[0], where[1]] = 1 / (distances[where[0], where[1]]**2)\n",
    "    ids = np.arange(len(descs))\n",
    "    # Graph computed\n",
    "    \n",
    "    # Whisper algorithm\n",
    "    for i in range(500):\n",
    "        center = np.random.randint(0, len(descs))\n",
    "        adjs = distances[center]\n",
    "        adj_node_counts = np.zeros(len(descs))\n",
    "        for i in range(len(adjs)):\n",
    "            adj_node_counts[ids[i]] += adjs[i]\n",
    "        arg_max = np.argmax(adj_node_counts[1:]) + 1\n",
    "        ids[center] = arg_max\n",
    "    \n",
    "    # Matching photographs\n",
    "    d = {}\n",
    "    for i in range(len(descs)):\n",
    "        if ids[i] not in d:\n",
    "            d[ids[i]] = [images[i]]\n",
    "        else:\n",
    "            d[ids[i]].append(images[i])\n",
    "    \n",
    "    for key, values in d.items():\n",
    "        plt.figure(key)\n",
    "        n = (len(values) - 1) // 4 + 1\n",
    "        for ind, img in enumerate(values):\n",
    "            plt_idx = ind + 1\n",
    "            plt.subplot(n, 4, ind + 1)\n",
    "            plt.imshow(img.astype('uint8'))\n",
    "            plt.axis('off')\n",
    "    \n",
    "    plt.show()\n",
    "    return True"
   ]
  },
  {
   "cell_type": "code",
   "execution_count": 14,
   "metadata": {
    "collapsed": false,
    "scrolled": false
   },
   "outputs": [
    {
     "ename": "ValueError",
     "evalue": "'axis' entry is out of bounds",
     "output_type": "error",
     "traceback": [
      "\u001b[0;31m---------------------------------------------------------------------------\u001b[0m",
      "\u001b[0;31mValueError\u001b[0m                                Traceback (most recent call last)",
      "\u001b[0;32m<ipython-input-14-953950bc0963>\u001b[0m in \u001b[0;36m<module>\u001b[0;34m()\u001b[0m\n\u001b[1;32m      1\u001b[0m \u001b[0mimages\u001b[0m \u001b[1;33m=\u001b[0m \u001b[0mload_images\u001b[0m\u001b[1;33m(\u001b[0m\u001b[0mretrieve_filepaths\u001b[0m\u001b[1;33m(\u001b[0m\u001b[1;34m\"test_images\"\u001b[0m\u001b[1;33m)\u001b[0m\u001b[1;33m)\u001b[0m\u001b[1;33m\u001b[0m\u001b[0m\n\u001b[0;32m----> 2\u001b[0;31m \u001b[0mcluster\u001b[0m\u001b[1;33m(\u001b[0m\u001b[1;33m*\u001b[0m\u001b[0mimages\u001b[0m\u001b[1;33m)\u001b[0m\u001b[1;33m\u001b[0m\u001b[0m\n\u001b[0m",
      "\u001b[0;32m<ipython-input-12-f10eb68e218b>\u001b[0m in \u001b[0;36mcluster\u001b[0;34m(images, descs, threshold, iters)\u001b[0m\n\u001b[1;32m      3\u001b[0m     distances = np.sqrt(np.sum(d_descs**2, axis=1, keepdims=True) \n\u001b[1;32m      4\u001b[0m                    \u001b[1;33m+\u001b[0m \u001b[0mnp\u001b[0m\u001b[1;33m.\u001b[0m\u001b[0msum\u001b[0m\u001b[1;33m(\u001b[0m\u001b[0md_descs\u001b[0m\u001b[1;33m**\u001b[0m\u001b[1;36m2\u001b[0m\u001b[1;33m,\u001b[0m \u001b[0maxis\u001b[0m\u001b[1;33m=\u001b[0m\u001b[1;36m1\u001b[0m\u001b[1;33m)\u001b[0m\u001b[1;33m\u001b[0m\u001b[0m\n\u001b[0;32m----> 5\u001b[0;31m                    \u001b[1;33m-\u001b[0m \u001b[1;36m2\u001b[0m\u001b[1;33m*\u001b[0m\u001b[0mnp\u001b[0m\u001b[1;33m.\u001b[0m\u001b[0mdot\u001b[0m\u001b[1;33m(\u001b[0m\u001b[0md_descs\u001b[0m\u001b[1;33m,\u001b[0m \u001b[0md_descs\u001b[0m\u001b[1;33m.\u001b[0m\u001b[0mT\u001b[0m\u001b[1;33m)\u001b[0m\u001b[1;33m\u001b[0m\u001b[0m\n\u001b[0m\u001b[1;32m      6\u001b[0m                    )\n\u001b[1;32m      7\u001b[0m     \u001b[0mdistances\u001b[0m\u001b[1;33m[\u001b[0m\u001b[0mnp\u001b[0m\u001b[1;33m.\u001b[0m\u001b[0marange\u001b[0m\u001b[1;33m(\u001b[0m\u001b[0mlen\u001b[0m\u001b[1;33m(\u001b[0m\u001b[0mdescs\u001b[0m\u001b[1;33m)\u001b[0m\u001b[1;33m)\u001b[0m\u001b[1;33m,\u001b[0m \u001b[0mnp\u001b[0m\u001b[1;33m.\u001b[0m\u001b[0marange\u001b[0m\u001b[1;33m(\u001b[0m\u001b[0mlen\u001b[0m\u001b[1;33m(\u001b[0m\u001b[0mdescs\u001b[0m\u001b[1;33m)\u001b[0m\u001b[1;33m)\u001b[0m\u001b[1;33m]\u001b[0m \u001b[1;33m=\u001b[0m \u001b[1;36m0\u001b[0m\u001b[1;33m\u001b[0m\u001b[0m\n",
      "\u001b[0;32mC:\\Users\\Lilian\\Anaconda3\\lib\\site-packages\\numpy\\core\\fromnumeric.py\u001b[0m in \u001b[0;36msum\u001b[0;34m(a, axis, dtype, out, keepdims)\u001b[0m\n\u001b[1;32m   1838\u001b[0m     \u001b[1;32melse\u001b[0m\u001b[1;33m:\u001b[0m\u001b[1;33m\u001b[0m\u001b[0m\n\u001b[1;32m   1839\u001b[0m         return _methods._sum(a, axis=axis, dtype=dtype,\n\u001b[0;32m-> 1840\u001b[0;31m                              out=out, keepdims=keepdims)\n\u001b[0m\u001b[1;32m   1841\u001b[0m \u001b[1;33m\u001b[0m\u001b[0m\n\u001b[1;32m   1842\u001b[0m \u001b[1;33m\u001b[0m\u001b[0m\n",
      "\u001b[0;32mC:\\Users\\Lilian\\Anaconda3\\lib\\site-packages\\numpy\\core\\_methods.py\u001b[0m in \u001b[0;36m_sum\u001b[0;34m(a, axis, dtype, out, keepdims)\u001b[0m\n\u001b[1;32m     30\u001b[0m \u001b[1;33m\u001b[0m\u001b[0m\n\u001b[1;32m     31\u001b[0m \u001b[1;32mdef\u001b[0m \u001b[0m_sum\u001b[0m\u001b[1;33m(\u001b[0m\u001b[0ma\u001b[0m\u001b[1;33m,\u001b[0m \u001b[0maxis\u001b[0m\u001b[1;33m=\u001b[0m\u001b[1;32mNone\u001b[0m\u001b[1;33m,\u001b[0m \u001b[0mdtype\u001b[0m\u001b[1;33m=\u001b[0m\u001b[1;32mNone\u001b[0m\u001b[1;33m,\u001b[0m \u001b[0mout\u001b[0m\u001b[1;33m=\u001b[0m\u001b[1;32mNone\u001b[0m\u001b[1;33m,\u001b[0m \u001b[0mkeepdims\u001b[0m\u001b[1;33m=\u001b[0m\u001b[1;32mFalse\u001b[0m\u001b[1;33m)\u001b[0m\u001b[1;33m:\u001b[0m\u001b[1;33m\u001b[0m\u001b[0m\n\u001b[0;32m---> 32\u001b[0;31m     \u001b[1;32mreturn\u001b[0m \u001b[0mumr_sum\u001b[0m\u001b[1;33m(\u001b[0m\u001b[0ma\u001b[0m\u001b[1;33m,\u001b[0m \u001b[0maxis\u001b[0m\u001b[1;33m,\u001b[0m \u001b[0mdtype\u001b[0m\u001b[1;33m,\u001b[0m \u001b[0mout\u001b[0m\u001b[1;33m,\u001b[0m \u001b[0mkeepdims\u001b[0m\u001b[1;33m)\u001b[0m\u001b[1;33m\u001b[0m\u001b[0m\n\u001b[0m\u001b[1;32m     33\u001b[0m \u001b[1;33m\u001b[0m\u001b[0m\n\u001b[1;32m     34\u001b[0m \u001b[1;32mdef\u001b[0m \u001b[0m_prod\u001b[0m\u001b[1;33m(\u001b[0m\u001b[0ma\u001b[0m\u001b[1;33m,\u001b[0m \u001b[0maxis\u001b[0m\u001b[1;33m=\u001b[0m\u001b[1;32mNone\u001b[0m\u001b[1;33m,\u001b[0m \u001b[0mdtype\u001b[0m\u001b[1;33m=\u001b[0m\u001b[1;32mNone\u001b[0m\u001b[1;33m,\u001b[0m \u001b[0mout\u001b[0m\u001b[1;33m=\u001b[0m\u001b[1;32mNone\u001b[0m\u001b[1;33m,\u001b[0m \u001b[0mkeepdims\u001b[0m\u001b[1;33m=\u001b[0m\u001b[1;32mFalse\u001b[0m\u001b[1;33m)\u001b[0m\u001b[1;33m:\u001b[0m\u001b[1;33m\u001b[0m\u001b[0m\n",
      "\u001b[0;31mValueError\u001b[0m: 'axis' entry is out of bounds"
     ]
    }
   ],
   "source": [
    "images = load_images(retrieve_filepaths(\"test_images\"))\n",
    "cluster(*images)"
   ]
  }
 ],
 "metadata": {
  "kernelspec": {
   "display_name": "Python [conda root]",
   "language": "python",
   "name": "conda-root-py"
  },
  "language_info": {
   "codemirror_mode": {
    "name": "ipython",
    "version": 3
   },
   "file_extension": ".py",
   "mimetype": "text/x-python",
   "name": "python",
   "nbconvert_exporter": "python",
   "pygments_lexer": "ipython3",
   "version": "3.5.2"
  }
 },
 "nbformat": 4,
 "nbformat_minor": 1
}
