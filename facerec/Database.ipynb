{
 "cells": [
  {
   "cell_type": "code",
   "execution_count": 12,
   "metadata": {
    "collapsed": true
   },
   "outputs": [],
   "source": [
    "# Imports\n",
    "import pickle\n",
    "import numpy as np"
   ]
  },
  {
   "cell_type": "code",
   "execution_count": 13,
   "metadata": {
    "collapsed": true
   },
   "outputs": [],
   "source": [
    "# Constants\n",
    "DATABASE_FR = \"data/facial_features.txt\"\n",
    "\n",
    "# Variables\n",
    "database = {}"
   ]
  },
  {
   "cell_type": "code",
   "execution_count": 14,
   "metadata": {
    "collapsed": true
   },
   "outputs": [],
   "source": [
    "# Retrieve DB\n",
    "def retrieve_database(filepath=DATABASE_FR):\n",
    "    with open(filepath, \"rb\") as f:\n",
    "        db = pickle.load(f)\n",
    "    return db"
   ]
  },
  {
   "cell_type": "code",
   "execution_count": 15,
   "metadata": {
    "collapsed": true
   },
   "outputs": [],
   "source": [
    "# Write DB\n",
    "def write_database(filepath=DATABASE_FR):\n",
    "    with open(filepath, \"wb\") as f:\n",
    "        pickle.dump(database, f)\n",
    "        \n",
    "write_database(DATABASE_FR)"
   ]
  },
  {
   "cell_type": "code",
   "execution_count": 16,
   "metadata": {
    "collapsed": true
   },
   "outputs": [],
   "source": [
    "# Add image to database\n",
    "def add_image(descriptor,name=None):\n",
    "    \n",
    "    if name != None:\n",
    "        \n",
    "        \n",
    "        old_descriptor_list = list(database.get(name))[0]\n",
    "        \n",
    "        old_descriptor_list.append(descriptor)\n",
    "        \n",
    "        new_list = old_descriptor_list\n",
    "        \n",
    "        num_descriptors = len(new_list)\n",
    "        \n",
    "        temp_arr = np.array(new_list)\n",
    "        \n",
    "        new_mean = np.sum(temp_arr)/num_descriptors\n",
    "        \n",
    "    \n",
    "        database[name] = [new_list,new_mean]\n",
    "    \n",
    "\n",
    "    if name == None:\n",
    "        the_name = input(\"Please enter your name: \")\n",
    "        \n",
    "        the_descriptors = []\n",
    "        the_descriptors.append(descriptor)\n",
    "        \n",
    "        database[the_name] = [the_descriptors]\n",
    "        \n",
    "        mean_val = descriptor\n",
    "        \n",
    "        database[the_name].append(mean_val)\n",
    "        \n"
   ]
  },
  {
   "cell_type": "code",
   "execution_count": 17,
   "metadata": {
    "collapsed": true
   },
   "outputs": [],
   "source": [
    "def add_multiple_images(num_detections, descriptors, names):\n",
    "    \n",
    "    \n",
    "    for i in range(num_detections):\n",
    "        \n",
    "        add_image(descriptors[i],names[i])\n",
    "    "
   ]
  },
  {
   "cell_type": "code",
   "execution_count": 18,
   "metadata": {
    "collapsed": true
   },
   "outputs": [],
   "source": [
    "def clear_database(password):\n",
    "    if password.lower() == \"Yes I am sure\":\n",
    "        if input(\"Are you very sure?\").lower() == \"y\":\n",
    "            global database\n",
    "            database = {}"
   ]
  },
  {
   "cell_type": "code",
   "execution_count": 19,
   "metadata": {},
   "outputs": [],
   "source": [
    "# Start\n",
    "def initialize():\n",
    "    global database\n",
    "    database = retrieve_database()\n",
    "\n",
    "initialize()"
   ]
  },
  {
   "cell_type": "code",
   "execution_count": null,
   "metadata": {
    "collapsed": true
   },
   "outputs": [],
   "source": [
    "def del_person(name):\n",
    "    \n",
    "    del database[name]"
   ]
  },
  {
   "cell_type": "code",
   "execution_count": null,
   "metadata": {
    "collapsed": true
   },
   "outputs": [],
   "source": []
  },
  {
   "cell_type": "code",
   "execution_count": null,
   "metadata": {
    "collapsed": true
   },
   "outputs": [],
   "source": []
  }
 ],
 "metadata": {
  "anaconda-cloud": {},
  "kernelspec": {
   "display_name": "Python [default]",
   "language": "python",
   "name": "python3"
  },
  "language_info": {
   "codemirror_mode": {
    "name": "ipython",
    "version": 3
   },
   "file_extension": ".py",
   "mimetype": "text/x-python",
   "name": "python",
   "nbconvert_exporter": "python",
   "pygments_lexer": "ipython3",
   "version": "3.5.2"
  }
 },
 "nbformat": 4,
 "nbformat_minor": 1
}
