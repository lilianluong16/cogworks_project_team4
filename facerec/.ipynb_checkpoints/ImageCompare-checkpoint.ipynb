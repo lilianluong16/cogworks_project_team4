{
 "cells": [
  {
   "cell_type": "code",
   "execution_count": 7,
   "metadata": {
    "collapsed": false
   },
   "outputs": [],
   "source": [
    "import numpy as np\n",
    "import matplotlib.pyplot as plt\n",
    "import matplotlib.patches as patches\n",
    "import ImageLoader"
   ]
  },
  {
   "cell_type": "code",
   "execution_count": 2,
   "metadata": {
    "collapsed": true
   },
   "outputs": [],
   "source": [
    "def calc_dist(test, data):\n",
    "    \"\"\"\n",
    "    Calculates the L2 distance between two feature vectors.\n",
    "    \n",
    "    Parameters\n",
    "    ----------\n",
    "    test: numpy array, shape (N,)\n",
    "    data: numpy array, shape (N,)\n",
    "    \n",
    "    Returns\n",
    "    -------\n",
    "    float\n",
    "    \"\"\"\n",
    "    return np.sqrt(np.sum((test - data)**2))"
   ]
  },
  {
   "cell_type": "code",
   "execution_count": 120,
   "metadata": {
    "collapsed": true
   },
   "outputs": [],
   "source": [
    "def is_face(test_desc, profile_mean, threshold):\n",
    "    \"\"\"\n",
    "    Determines whether or not a descriptor is close enough to a face,\n",
    "    returning False if the L2 distance is greater than the threshold.\n",
    "    \n",
    "    Parameters\n",
    "    ----------\n",
    "    test_desc: numpy array, shape (N,)\n",
    "        The descriptor of the unknown face being tested.\n",
    "    profile_mean: numpy array, shape (N,)\n",
    "        The mean of descriptors for the profile being tested.\n",
    "    threshold: numerical value (int, float)\n",
    "        The maximum L2 distance accepted as a match.\n",
    "        \n",
    "    Returns\n",
    "    -------\n",
    "    float, if L2 distance is less than the threshold\n",
    "    None, otherwise\n",
    "    \"\"\"\n",
    "    l2d = calc_dist(test_desc, profile_mean)\n",
    "    if l2d < threshold:\n",
    "        return l2d\n",
    "    return None"
   ]
  },
  {
   "cell_type": "code",
   "execution_count": 121,
   "metadata": {
    "collapsed": true
   },
   "outputs": [],
   "source": [
    "def identify_face(desc, database, threshold=0.5, face_thres=0):\n",
    "    \"\"\"\n",
    "    Compares a test descriptor to all faces in a database and determines the best match, if any.\n",
    "    \n",
    "    Parameters\n",
    "    ----------\n",
    "    desc: numpy array, shape (N,)\n",
    "        The descriptor of the unknown face being tested.\n",
    "    database: dictionary\n",
    "        The database containing name keys and a list of descriptor vectors as well as the mean.\n",
    "    threshold: numerical value (int, float)\n",
    "        The maximum L2 distance accepted as a face match.\n",
    "    face_thres: numerical value (int, float)\n",
    "        The minimum distance between the top two matches to count a match.\n",
    "        \n",
    "    Returns\n",
    "    -------\n",
    "    string, representing the name/key if a match is found\n",
    "    None, otherwise\n",
    "    \"\"\"\n",
    "    matches = []\n",
    "    for key, data in database.items():\n",
    "        i_f = is_face(desc, data[1], threshold)\n",
    "        if i_f is not None:\n",
    "            matches.append((key, i_f))\n",
    "    if len(matches) == 0:\n",
    "        return None\n",
    "    if len(matches) == 1:\n",
    "        return matches[0][0]\n",
    "    matches = sorted(matches, key=lambda x: x[1])\n",
    "    if matches[1][1] - matches[0][1] > face_thres:\n",
    "        return matches[0][0]\n",
    "    return None"
   ]
  },
  {
   "cell_type": "code",
   "execution_count": 5,
   "metadata": {
    "collapsed": true
   },
   "outputs": [],
   "source": [
    "def compare_faces(detections, descriptors, img, database):\n",
    "    \"\"\"\n",
    "    Compares each face with the database.\n",
    "    \"\"\"\n",
    "    people = []\n",
    "    for d in descriptors:\n",
    "        result = find_face(d, database)\n",
    "        people.append(result)\n",
    "    \n",
    "    fig,ax = plt.subplots()\n",
    "    ax.imshow(img)\n",
    "    for b in detections:\n",
    "        ax.add_patch(b)\n",
    "    plt.show()"
   ]
  },
  {
   "cell_type": "code",
   "execution_count": 123,
   "metadata": {
    "collapsed": false
   },
   "outputs": [
    {
     "name": "stdout",
     "output_type": "stream",
     "text": [
      "[rectangle(218,202,373,356)]\n"
     ]
    }
   ],
   "source": [
    "img = ImageLoader.get_img_from_camera()\n",
    "detections = ImageLoader.find_faces(img)\n",
    "print(detections)\n",
    "\n",
    "fig,ax = plt.subplots()\n",
    "ax.imshow(img)\n",
    "for b in detections:\n",
    "    ax.add_patch(b)\n",
    "plt.show()"
   ]
  }
 ],
 "metadata": {
  "anaconda-cloud": {},
  "kernelspec": {
   "display_name": "Python [conda root]",
   "language": "python",
   "name": "conda-root-py"
  },
  "language_info": {
   "codemirror_mode": {
    "name": "ipython",
    "version": 3
   },
   "file_extension": ".py",
   "mimetype": "text/x-python",
   "name": "python",
   "nbconvert_exporter": "python",
   "pygments_lexer": "ipython3",
   "version": "3.5.2"
  }
 },
 "nbformat": 4,
 "nbformat_minor": 1
}
