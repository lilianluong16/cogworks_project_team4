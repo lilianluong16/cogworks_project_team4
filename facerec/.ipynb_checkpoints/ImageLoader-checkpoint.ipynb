{
 "cells": [
  {
   "cell_type": "code",
   "execution_count": 20,
   "metadata": {
    "collapsed": false
   },
   "outputs": [
    {
     "name": "stdout",
     "output_type": "stream",
     "text": [
      "File already exists:\n",
      "\tc:\\users\\jaden\\dropbox\\cog\\dlibmodels\\dlib_models\\dlib_face_recognition_resnet_model_v1.dat\n",
      "File already exists:\n",
      "\tc:\\users\\jaden\\dropbox\\cog\\dlibmodels\\dlib_models\\shape_predictor_68_face_landmarks.dat\n"
     ]
    }
   ],
   "source": [
    "%matplotlib notebook\n",
    "from camera import take_picture\n",
    "import skimage.io as io \n",
    "import matplotlib.pyplot as plt\n",
    "import numpy as np\n",
    "\n",
    "from dlib_models import download_model, download_predictor\n",
    "download_model()\n",
    "download_predictor()\n",
    "\n",
    "import dlib_models\n",
    "from dlib_models import load_dlib_models\n",
    "load_dlib_models()\n",
    "from dlib_models import models"
   ]
  },
  {
   "cell_type": "code",
   "execution_count": 2,
   "metadata": {
    "collapsed": true
   },
   "outputs": [],
   "source": [
    "def get_img_from_camera():\n",
    "    \"\"\"\n",
    "    Gets an image numpy array from the default camera\n",
    "    Parameters:\n",
    "    -----------\n",
    "    None\n",
    "    \n",
    "    Returns:\n",
    "    --------\n",
    "    img (numpy array):\n",
    "    the (H,W,3) rgb values of the image\n",
    "    \"\"\"\n",
    "    img_array = take_picture()\n",
    "    return img_array"
   ]
  },
  {
   "cell_type": "code",
   "execution_count": 3,
   "metadata": {
    "collapsed": true
   },
   "outputs": [],
   "source": [
    "def get_img_from_file(filepath):\n",
    "    \"\"\"\n",
    "    Gets an image numpy array from the default camera\n",
    "    Parameters:\n",
    "    -----------\n",
    "    the string file path of the picture\n",
    "    \n",
    "    Returns:\n",
    "    --------\n",
    "    img (numpy array):\n",
    "    the (H,W,3) rgb values of the image\n",
    "    \"\"\"\n",
    "    img_array = io.imread(filepath)\n",
    "    return img_array"
   ]
  },
  {
   "cell_type": "code",
   "execution_count": 6,
   "metadata": {
    "collapsed": true
   },
   "outputs": [],
   "source": [
    "def display_img(img_array):\n",
    "    \"\"\"\n",
    "    For testing. Shows the image based on it's numpy array\n",
    "    Parameters:\n",
    "    -----------\n",
    "    None\n",
    "    \n",
    "    Returns:\n",
    "    --------\n",
    "    None; shows the image\n",
    "    \"\"\"\n",
    "    fig,ax = plt.subplots()\n",
    "    ax.imshow(img_array)"
   ]
  },
  {
   "cell_type": "code",
   "execution_count": 11,
   "metadata": {
    "collapsed": true
   },
   "outputs": [],
   "source": [
    "def find_faces(img_array):\n",
    "    \"\"\"\n",
    "    Finds all faces in an image\n",
    "    Parameters:\n",
    "    -----------\n",
    "    img_array (numpy array):\n",
    "        the array (H,W,3) of rgb values for the image\n",
    "    \n",
    "    Returns:\n",
    "    --------\n",
    "    detections (list):\n",
    "        each element has the corners of the bounding box for that detected face\n",
    "    \"\"\"\n",
    "    face_detect = models[\"face detect\"]\n",
    "\n",
    "    # Number of times to upscale image before detecting faces.\n",
    "    # When would you want to increase this number?\n",
    "    upscale = 1 \n",
    "\n",
    "    detections = face_detect(img_array, upscale)  # returns sequence of face-detections\n",
    "    detections = list(detections)\n",
    "\n",
    "    det = detections[0] # first detected face in image\n",
    "\n",
    "    # bounding box dimensions for detection\n",
    "    l, r, t, b = det.left(), det.right(), det.top(), det.bottom()\n",
    "    return detections"
   ]
  },
  {
   "cell_type": "code",
   "execution_count": 22,
   "metadata": {
    "collapsed": true
   },
   "outputs": [],
   "source": [
    "def find_descriptors(img_array, detections):\n",
    "    \"\"\"\n",
    "    Provides descriptors of the faces bounded by the detection boxes in the img array\n",
    "    Parameters:\n",
    "    -----------\n",
    "    img_array (numpy array):\n",
    "        the array (H,W,3) of rgb values for the image\n",
    "    detections (list):\n",
    "        each element has the corners of the bounding box for that detected face\n",
    "    \n",
    "    Returns:\n",
    "    --------\n",
    "    descriptors (list of numpy arrays):\n",
    "        a list of descriptors for each face in the image (has shape (128,))\n",
    "    \"\"\"\n",
    "    descriptors = []\n",
    "    for det in detections:\n",
    "        shape_predictor = models[\"shape predict\"]\n",
    "        shape = shape_predictor(img_array, det)\n",
    "        face_rec_model = models[\"face rec\"]\n",
    "        descriptor = np.array(face_rec_model.compute_face_descriptor(img_array, shape))\n",
    "        descriptors.append(descriptor)\n",
    "    return descriptors"
   ]
  }
 ],
 "metadata": {
  "anaconda-cloud": {},
  "kernelspec": {
   "display_name": "Python [default]",
   "language": "python",
   "name": "python3"
  },
  "language_info": {
   "codemirror_mode": {
    "name": "ipython",
    "version": 3
   },
   "file_extension": ".py",
   "mimetype": "text/x-python",
   "name": "python",
   "nbconvert_exporter": "python",
   "pygments_lexer": "ipython3",
   "version": "3.5.2"
  }
 },
 "nbformat": 4,
 "nbformat_minor": 2
}
