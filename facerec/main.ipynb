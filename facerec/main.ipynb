{
 "cells": [
  {
   "cell_type": "code",
   "execution_count": 1,
   "metadata": {},
   "outputs": [
    {
     "name": "stdout",
     "output_type": "stream",
     "text": [
      "File already exists:\n",
      "\tc:\\users\\jaden\\dropbox\\cog\\dlibmodels\\dlib_models\\dlib_face_recognition_resnet_model_v1.dat\n",
      "File already exists:\n",
      "\tc:\\users\\jaden\\dropbox\\cog\\dlibmodels\\dlib_models\\shape_predictor_68_face_landmarks.dat\n"
     ]
    },
    {
     "ename": "ModuleNotFoundError",
     "evalue": "No module named 'ImageCompare'",
     "output_type": "error",
     "traceback": [
      "\u001b[0;31m---------------------------------------------------------------------------\u001b[0m",
      "\u001b[0;31mModuleNotFoundError\u001b[0m                       Traceback (most recent call last)",
      "\u001b[0;32m<ipython-input-1-44527cca39f1>\u001b[0m in \u001b[0;36m<module>\u001b[0;34m()\u001b[0m\n\u001b[1;32m      1\u001b[0m \u001b[1;32mimport\u001b[0m \u001b[0mImageLoader\u001b[0m\u001b[1;33m\u001b[0m\u001b[0m\n\u001b[0;32m----> 2\u001b[0;31m \u001b[1;32mimport\u001b[0m \u001b[0mImageCompare\u001b[0m\u001b[1;33m\u001b[0m\u001b[0m\n\u001b[0m\u001b[1;32m      3\u001b[0m \u001b[1;32mimport\u001b[0m \u001b[0mDatabase\u001b[0m\u001b[1;33m\u001b[0m\u001b[0m\n",
      "\u001b[0;31mModuleNotFoundError\u001b[0m: No module named 'ImageCompare'"
     ]
    }
   ],
   "source": [
    "import ImageLoader\n",
    "import ImageCompare\n",
    "import Database"
   ]
  },
  {
   "cell_type": "code",
   "execution_count": null,
   "metadata": {},
   "outputs": [],
   "source": [
    "def identify():\n",
    "    \"\"\"\n",
    "    Takes a picture with configured camera and identifies all of the faces in the picture\n",
    "    Parameters:\n",
    "    -----------\n",
    "    None\n",
    "    \n",
    "    Returns:\n",
    "    --------\n",
    "    names (list)\n",
    "        the list of the name of each person in the picture\n",
    "    \"\"\"\n",
    "    descs = ImageLoader.describe()\n",
    "    ImageCompare.compare_faceA\n",
    "            "
   ]
  },
  {
   "cell_type": "code",
   "execution_count": null,
   "metadata": {
    "collapsed": true
   },
   "outputs": [],
   "source": []
  }
 ],
 "metadata": {
  "kernelspec": {
   "display_name": "Python 3",
   "language": "python",
   "name": "python3"
  },
  "language_info": {
   "codemirror_mode": {
    "name": "ipython",
    "version": 3
   },
   "file_extension": ".py",
   "mimetype": "text/x-python",
   "name": "python",
   "nbconvert_exporter": "python",
   "pygments_lexer": "ipython3",
   "version": "3.6.1"
  }
 },
 "nbformat": 4,
 "nbformat_minor": 2
}
