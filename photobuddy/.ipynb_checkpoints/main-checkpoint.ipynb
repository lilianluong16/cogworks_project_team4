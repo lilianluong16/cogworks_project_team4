{
 "cells": [
  {
   "cell_type": "code",
   "execution_count": 1,
   "metadata": {
    "collapsed": false
   },
   "outputs": [
    {
     "name": "stdout",
     "output_type": "stream",
     "text": [
      "Configuration saved: \n",
      "\tport: 1, exposure 0.7 (sec)\n",
      "Configuration saved: \n",
      "\tport: 1, exposure 0.7 (sec)\n"
     ]
    }
   ],
   "source": [
    "import Face_Rec\n",
    "import matplotlib.pyplot as plt\n",
    "import matplotlib.patches as patches\n",
    "%matplotlib notebook\n",
    "\n",
    "from camera import save_camera_config\n",
    "save_camera_config(port=1, exposure=0.7)"
   ]
  },
  {
   "cell_type": "code",
   "execution_count": 7,
   "metadata": {
    "collapsed": true
   },
   "outputs": [],
   "source": [
    "def identify(save=True, from_file=False, threshold = 0.45):\n",
    "    \"\"\"\n",
    "    Takes a picture with configured camera and identifies all of the faces in the picture\n",
    "    Parameters:\n",
    "    -----------\n",
    "    save (boolean):\n",
    "        whether or not to add the captured image to the database\n",
    "    from_file(boolean):\n",
    "        whether or not expect a filename instead of taking a picture\n",
    "    \n",
    "    Returns:\n",
    "    --------\n",
    "    names (list)\n",
    "        the list of the name of each person in the picture\n",
    "    \"\"\"\n",
    "    if not from_file:\n",
    "        descs = Face_Rec.describe()\n",
    "    else:\n",
    "        filepath = input('Please enter the location (filepath) of the image: ')\n",
    "        img = Face_Rec.get_img_from_file(filepath)\n",
    "        det = Face_Rec.find_faces(img)\n",
    "        descs = Face_Rec.find_descriptors(img, det)\n",
    "    names = Face_Rec.compare_faces(descs, Face_Rec.db, threshold)\n",
    "    if save:\n",
    "        if len(descs) > 1:\n",
    "            print(\"Cannot add multiple people at once.\")\n",
    "        elif len(descs) < 1:\n",
    "            print(\"There's no one there!\")\n",
    "        else:\n",
    "            Face_Rec.add_image(descs[0], name=names[0])\n",
    "    return names"
   ]
  },
  {
   "cell_type": "code",
   "execution_count": 3,
   "metadata": {
    "collapsed": true
   },
   "outputs": [],
   "source": [
    "def draw_faces(detections, people, img):\n",
    "    \"\"\"\n",
    "    Draws bounding boxes over image, and labels them with people.\n",
    "    \n",
    "    Parameters\n",
    "    ----------\n",
    "    detections: list of rectangles\n",
    "        List of bounding box rectangles corresponding to the position of each detected face.\n",
    "    people: list of strings\n",
    "        List of the keys/names of people as found by compare_faces(), or None if no match is found.\n",
    "    img: numpy array, shape (480, 640, 3)\n",
    "        The array representing the image.\n",
    "    \n",
    "    Returns:\n",
    "    --------\n",
    "    None\n",
    "    \"\"\"\n",
    "    fig, ax = plt.subplots()\n",
    "    ax.imshow(img)\n",
    "    for i in range(len(detections)):\n",
    "        d = detections[i]\n",
    "        rect = patches.Rectangle((d.left(), d.top()), d.width(), d.height(), fill=False, linewidth=1.2, color='#57FF36')\n",
    "        ax.add_patch(rect)\n",
    "        if people[i] is not None:\n",
    "            ax.text(d.left() + 5, d.top() + d.height() + 22, people[i], backgroundcolor='#57FF36', fontsize='4', color='black', weight='bold')\n",
    "    plt.show()"
   ]
  },
  {
   "cell_type": "code",
   "execution_count": 10,
   "metadata": {
    "collapsed": true
   },
   "outputs": [],
   "source": [
    "def go():\n",
    "    \"\"\"\n",
    "    Takes a picture from the configured camera and displays the image with recognized faces and labels\n",
    "    Parameters:\n",
    "    -----------\n",
    "    None\n",
    "    \n",
    "    Returns:\n",
    "    --------\n",
    "    None; shows the image with captioned faces\n",
    "    \"\"\"\n",
    "    img = Face_Rec.get_img_from_camera()\n",
    "    dets = Face_Rec.find_faces(img)\n",
    "    descs = Face_Rec.find_descriptors(img, dets)\n",
    "    compared = Face_Rec.compare_faces(descs, database.database, th = 0.45)\n",
    "    draw_faces(dets, compared, img)"
   ]
  },
  {
   "cell_type": "code",
   "execution_count": 8,
   "metadata": {
    "collapsed": false
   },
   "outputs": [
    {
     "data": {
      "text/plain": [
       "['Lilian Luong']"
      ]
     },
     "execution_count": 8,
     "metadata": {},
     "output_type": "execute_result"
    }
   ],
   "source": [
    "identify(save=True)"
   ]
  },
  {
   "cell_type": "code",
   "execution_count": 11,
   "metadata": {
    "collapsed": true
   },
   "outputs": [],
   "source": [
    "def add_file(filepath):\n",
    "    \"\"\"\n",
    "    Adds a person to theretrieve_database() given a picture of their face\n",
    "    Will ask for their name\n",
    "    \n",
    "    Parameters\n",
    "    ----------\n",
    "    filepath (string):\n",
    "        the location of the file that is the picture of the person's face\n",
    "    Returns:\n",
    "    --------\n",
    "    None\n",
    "    \"\"\"\n",
    "    img = Face_Rec.get_img_from_file(filepath)\n",
    "    det = Face_Rec.find_faces(img)\n",
    "    descriptor = Face_Rec.find_descriptors(img, det)\n",
    "    Face_Rec.add_image(descriptor)"
   ]
  }
 ],
 "metadata": {
  "anaconda-cloud": {},
  "kernelspec": {
   "display_name": "Python [default]",
   "language": "python",
   "name": "python3"
  },
  "language_info": {
   "codemirror_mode": {
    "name": "ipython",
    "version": 3
   },
   "file_extension": ".py",
   "mimetype": "text/x-python",
   "name": "python",
   "nbconvert_exporter": "python",
   "pygments_lexer": "ipython3",
   "version": "3.5.2"
  }
 },
 "nbformat": 4,
 "nbformat_minor": 2
}
