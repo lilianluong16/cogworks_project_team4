{
 "cells": [
  {
   "cell_type": "code",
   "execution_count": 11,
   "metadata": {
    "collapsed": false
   },
   "outputs": [],
   "source": [
    "import collect_rss\n",
    "import numpy as np\n",
    "import string\n",
    "from nltk import word_tokenize"
   ]
  },
  {
   "cell_type": "code",
   "execution_count": 10,
   "metadata": {
    "collapsed": true
   },
   "outputs": [],
   "source": [
    "def get_articles(url=\"http://feeds.reuters.com/Reuters/worldNews\", filepath=None):\n",
    "    \"\"\"\n",
    "    Obtains articles from RSS feed of Reuters.\n",
    "    \n",
    "    Parameters\n",
    "    ----------\n",
    "    url: String\n",
    "        URL of Reuters RSS feed.\n",
    "    filepath: String\n",
    "        Filepath of place to store articles.\n",
    "    \n",
    "    Returns\n",
    "    -------\n",
    "    list of articles\n",
    "    \"\"\"\n",
    "    texts = collect_rss.collect(url, filepath)\n",
    "    return list(texts.values())"
   ]
  },
  {
   "cell_type": "code",
   "execution_count": 57,
   "metadata": {
    "collapsed": true
   },
   "outputs": [],
   "source": [
    "def tokenize(text, preserve_case=True, filter_text=True, stopwords=None, punc=string.punctuation):\n",
    "    if filter_text and stopwords is None:\n",
    "        with open(\"stopwords.txt\", 'r') as r:\n",
    "            stops = []\n",
    "            for line in r:\n",
    "                stops += [i.strip() for i in line.split('\\t')]\n",
    "    stopwords = stops\n",
    "    tokens = word_tokenize(text)\n",
    "    indices = []\n",
    "    if filter_text:\n",
    "        for i in range(len(tokens)):\n",
    "            word = tokens[i]\n",
    "            # print(word, word in punc, word.lower() in stopwords)\n",
    "            if word in punc or word.lower() in stopwords:\n",
    "                indices.append(i)\n",
    "        tokens = list(np.delete(np.array(tokens), np.array(indices)))\n",
    "    if preserve_case:\n",
    "        return tokens\n",
    "    return [i.lower() for i in a]"
   ]
  },
  {
   "cell_type": "code",
   "execution_count": 53,
   "metadata": {
    "collapsed": false
   },
   "outputs": [],
   "source": [
    "def for_ner(url=\"http://feeds.reuters.com/Reuters/worldNews\"):\n",
    "    articles = get_articles(url)\n",
    "    return [tokenize(tx) for tx in articles]"
   ]
  },
  {
   "cell_type": "code",
   "execution_count": 60,
   "metadata": {
    "collapsed": false
   },
   "outputs": [],
   "source": [
    "def for_search(url=\"http://feeds.reuters.com/Reuters/worldNews\"):\n",
    "    articles = get_articles(url)\n",
    "    tokens = [tokenize(tx, preserve_case=False) for tx in articles]\n",
    "    return list(zip(articles, tokens))"
   ]
  }
 ],
 "metadata": {
  "kernelspec": {
   "display_name": "Python [conda root]",
   "language": "python",
   "name": "conda-root-py"
  },
  "language_info": {
   "codemirror_mode": {
    "name": "ipython",
    "version": 3
   },
   "file_extension": ".py",
   "mimetype": "text/x-python",
   "name": "python",
   "nbconvert_exporter": "python",
   "pygments_lexer": "ipython3",
   "version": "3.5.2"
  }
 },
 "nbformat": 4,
 "nbformat_minor": 1
}
