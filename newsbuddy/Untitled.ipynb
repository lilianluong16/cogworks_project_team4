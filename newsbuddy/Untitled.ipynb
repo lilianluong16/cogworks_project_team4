{
 "cells": [
  {
   "cell_type": "code",
   "execution_count": 3,
   "metadata": {
    "collapsed": true
   },
   "outputs": [],
   "source": [
    "import NER\n",
    "import news_loader"
   ]
  },
  {
   "cell_type": "code",
   "execution_count": 4,
   "metadata": {
    "collapsed": false
   },
   "outputs": [],
   "source": [
    "def collect_articles():\n",
    "    NER.update(news_loader.for_ner())\n",
    "    NER.write_database()"
   ]
  },
  {
   "cell_type": "code",
   "execution_count": 5,
   "metadata": {
    "collapsed": false
   },
   "outputs": [
    {
     "name": "stdout",
     "output_type": "stream",
     "text": [
      "downloading: http://feeds.reuters.com/~r/Reuters/worldNews/~3/gNlVmpFZfUk/us-usa-trump-russia-diplomats-idUSKBN1AD1DV\n",
      "downloading: http://feeds.reuters.com/~r/Reuters/worldNews/~3/GugqcCBAK8w/us-pakistan-politics-idUSKBN1AD0T5\n",
      "downloading: http://feeds.reuters.com/~r/Reuters/worldNews/~3/Yt63vK5mh4Y/us-venezuela-politics-idUSKBN1AC1S9\n",
      "downloading: http://feeds.reuters.com/~r/Reuters/worldNews/~3/G9LP-m1J_-4/us-mideast-crisis-syria-demining-idUSKBN1AD14X\n",
      "downloading: http://feeds.reuters.com/~r/Reuters/worldNews/~3/Vk90_3tqsD4/us-northkorea-missiles-japan-idUSKBN1AD08X\n",
      "downloading: http://feeds.reuters.com/~r/Reuters/worldNews/~3/-y1GvLQnBf0/us-britain-baby-idUSKBN1AD0NT\n",
      "downloading: http://feeds.reuters.com/~r/Reuters/worldNews/~3/RmbcI3pH2oU/us-greece-siemens-minister-idUSKBN1AD1NE\n",
      "downloading: http://feeds.reuters.com/~r/Reuters/worldNews/~3/n8jcTuCgBks/us-indonesia-drugs-idUSKBN1AD17N\n",
      "downloading: http://feeds.reuters.com/~r/Reuters/worldNews/~3/Wp6-OM_U_DU/us-gulf-qatar-meeting-idUSKBN1AD1KU\n",
      "downloading: http://feeds.reuters.com/~r/Reuters/worldNews/~3/3eUUYvgIj60/us-mideast-crisis-syria-attack-idUSKBN1AD1NI\n"
     ]
    }
   ],
   "source": [
    "collect_articles()"
   ]
  },
  {
   "cell_type": "code",
   "execution_count": 8,
   "metadata": {
    "collapsed": false
   },
   "outputs": [
    {
     "name": "stdout",
     "output_type": "stream",
     "text": [
      "downloading: http://feeds.reuters.com/~r/Reuters/worldNews/~3/gNlVmpFZfUk/us-usa-trump-russia-diplomats-idUSKBN1AD1DV\n",
      "downloading: http://feeds.reuters.com/~r/Reuters/worldNews/~3/GugqcCBAK8w/us-pakistan-politics-idUSKBN1AD0T5\n",
      "downloading: http://feeds.reuters.com/~r/Reuters/worldNews/~3/Yt63vK5mh4Y/us-venezuela-politics-idUSKBN1AC1S9\n",
      "downloading: http://feeds.reuters.com/~r/Reuters/worldNews/~3/G9LP-m1J_-4/us-mideast-crisis-syria-demining-idUSKBN1AD14X\n",
      "downloading: http://feeds.reuters.com/~r/Reuters/worldNews/~3/Vk90_3tqsD4/us-northkorea-missiles-japan-idUSKBN1AD08X\n",
      "downloading: http://feeds.reuters.com/~r/Reuters/worldNews/~3/-y1GvLQnBf0/us-britain-baby-idUSKBN1AD0NT\n",
      "downloading: http://feeds.reuters.com/~r/Reuters/worldNews/~3/RmbcI3pH2oU/us-greece-siemens-minister-idUSKBN1AD1NE\n",
      "downloading: http://feeds.reuters.com/~r/Reuters/worldNews/~3/n8jcTuCgBks/us-indonesia-drugs-idUSKBN1AD17N\n",
      "downloading: http://feeds.reuters.com/~r/Reuters/worldNews/~3/Wp6-OM_U_DU/us-gulf-qatar-meeting-idUSKBN1AD1KU\n",
      "downloading: http://feeds.reuters.com/~r/Reuters/worldNews/~3/3eUUYvgIj60/us-mideast-crisis-syria-attack-idUSKBN1AD1NI\n",
      "[('U.S.', 18), ('Russian', 16), ('Russia', 14)]\n"
     ]
    },
    {
     "ename": "TypeError",
     "evalue": "sequence item 0: expected str instance, tuple found",
     "output_type": "error",
     "traceback": [
      "\u001b[0;31m---------------------------------------------------------------------------\u001b[0m",
      "\u001b[0;31mTypeError\u001b[0m                                 Traceback (most recent call last)",
      "\u001b[0;32m<ipython-input-8-3328ce6eb2d6>\u001b[0m in \u001b[0;36m<module>\u001b[0;34m()\u001b[0m\n\u001b[1;32m      2\u001b[0m \u001b[0mtop_results\u001b[0m \u001b[1;33m=\u001b[0m \u001b[0mNER\u001b[0m\u001b[1;33m.\u001b[0m\u001b[0mtop_related\u001b[0m\u001b[1;33m(\u001b[0m\u001b[1;34m\"Donald Trump\"\u001b[0m\u001b[1;33m,\u001b[0m \u001b[0mk\u001b[0m\u001b[1;33m=\u001b[0m\u001b[1;36m3\u001b[0m\u001b[1;33m)\u001b[0m\u001b[1;33m\u001b[0m\u001b[0m\n\u001b[1;32m      3\u001b[0m \u001b[0mprint\u001b[0m\u001b[1;33m(\u001b[0m\u001b[0mtop_results\u001b[0m\u001b[1;33m)\u001b[0m\u001b[1;33m\u001b[0m\u001b[0m\n\u001b[0;32m----> 4\u001b[0;31m \u001b[0mresults\u001b[0m \u001b[1;33m=\u001b[0m \u001b[1;34m\", \"\u001b[0m\u001b[1;33m.\u001b[0m\u001b[0mjoin\u001b[0m\u001b[1;33m(\u001b[0m\u001b[0mtop_results\u001b[0m\u001b[1;33m)\u001b[0m\u001b[1;33m\u001b[0m\u001b[0m\n\u001b[0m\u001b[1;32m      5\u001b[0m \u001b[0mmsg\u001b[0m \u001b[1;33m=\u001b[0m \u001b[1;34m\"Most associated with \"\u001b[0m \u001b[1;33m+\u001b[0m \u001b[0mentity\u001b[0m \u001b[1;33m+\u001b[0m \u001b[1;34m\": \"\u001b[0m \u001b[1;33m+\u001b[0m \u001b[0mresults\u001b[0m\u001b[1;33m\u001b[0m\u001b[0m\n\u001b[1;32m      6\u001b[0m \u001b[0mmsg\u001b[0m\u001b[1;33m\u001b[0m\u001b[0m\n",
      "\u001b[0;31mTypeError\u001b[0m: sequence item 0: expected str instance, tuple found"
     ]
    }
   ],
   "source": [
    "collect_articles()\n",
    "top_results = NER.top_related(\"Donald Trump\", k=3)\n",
    "print(top_results)\n",
    "results = \", \".join(top_results)\n",
    "msg = \"Most associated with \" + entity + \": \" + results\n",
    "msg"
   ]
  }
 ],
 "metadata": {
  "kernelspec": {
   "display_name": "Python [conda root]",
   "language": "python",
   "name": "conda-root-py"
  },
  "language_info": {
   "codemirror_mode": {
    "name": "ipython",
    "version": 3
   },
   "file_extension": ".py",
   "mimetype": "text/x-python",
   "name": "python",
   "nbconvert_exporter": "python",
   "pygments_lexer": "ipython3",
   "version": "3.5.2"
  }
 },
 "nbformat": 4,
 "nbformat_minor": 1
}
