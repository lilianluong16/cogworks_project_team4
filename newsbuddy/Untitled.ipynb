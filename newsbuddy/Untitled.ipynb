{
 "cells": [
  {
   "cell_type": "code",
   "execution_count": 1,
   "metadata": {
    "collapsed": true
   },
   "outputs": [],
   "source": [
    "import NER\n",
    "import news_loader"
   ]
  },
  {
   "cell_type": "code",
   "execution_count": 2,
   "metadata": {
    "collapsed": false
   },
   "outputs": [],
   "source": [
    "def collect_articles():\n",
    "    NER.update(news_loader.for_ner())\n",
    "    NER.write_database()"
   ]
  },
  {
   "cell_type": "code",
   "execution_count": 3,
   "metadata": {
    "collapsed": false
   },
   "outputs": [
    {
     "name": "stdout",
     "output_type": "stream",
     "text": [
      "downloading: http://feeds.reuters.com/~r/Reuters/worldNews/~3/gNlVmpFZfUk/us-usa-trump-russia-diplomats-idUSKBN1AD1DV\n",
      "downloading: http://feeds.reuters.com/~r/Reuters/worldNews/~3/GugqcCBAK8w/us-pakistan-politics-idUSKBN1AD0T5\n",
      "downloading: http://feeds.reuters.com/~r/Reuters/worldNews/~3/Yt63vK5mh4Y/us-venezuela-politics-idUSKBN1AC1S9\n",
      "downloading: http://feeds.reuters.com/~r/Reuters/worldNews/~3/G9LP-m1J_-4/us-mideast-crisis-syria-demining-idUSKBN1AD14X\n",
      "downloading: http://feeds.reuters.com/~r/Reuters/worldNews/~3/Vk90_3tqsD4/us-northkorea-missiles-japan-idUSKBN1AD08X\n",
      "downloading: http://feeds.reuters.com/~r/Reuters/worldNews/~3/-y1GvLQnBf0/us-britain-baby-idUSKBN1AD0NT\n",
      "downloading: http://feeds.reuters.com/~r/Reuters/worldNews/~3/n8jcTuCgBks/us-indonesia-drugs-idUSKBN1AD17N\n",
      "downloading: http://feeds.reuters.com/~r/Reuters/worldNews/~3/Wp6-OM_U_DU/us-gulf-qatar-meeting-idUSKBN1AD1KU\n",
      "downloading: http://feeds.reuters.com/~r/Reuters/worldNews/~3/RmbcI3pH2oU/us-greece-siemens-minister-idUSKBN1AD1NE\n",
      "downloading: http://feeds.reuters.com/~r/Reuters/worldNews/~3/DgcCADIAR9o/us-mtn-group-nigeria-idUSKBN1AD1RQ\n"
     ]
    },
    {
     "data": {
      "text/plain": [
       "[('U.S.', 18),\n",
       " ('Russian', 16),\n",
       " ('Russia', 14),\n",
       " ('United States', 10),\n",
       " ('Moscow', 6),\n",
       " ('Trump', 6),\n",
       " ('Washington', 3),\n",
       " ('Embassy', 2),\n",
       " ('Vladimir Putin', 2),\n",
       " ('Senate', 2),\n",
       " ('Foreign Ministry', 2),\n",
       " ('Ministry', 2),\n",
       " ('Interfax', 1),\n",
       " ('Dmitry Peskov', 1),\n",
       " ('MOSCOW', 1),\n",
       " ('John Tefft', 1),\n",
       " ('European Commission', 1),\n",
       " ('Sergei Ryabkov', 1),\n",
       " ('Crimea', 1),\n",
       " ('Putin', 1),\n",
       " ('Yekaterinburg', 1),\n",
       " ('White House', 1),\n",
       " ('Obama', 1),\n",
       " ('Denis Manturov', 1),\n",
       " ('U.S. Embassy', 1),\n",
       " ('Industry', 1),\n",
       " ('Congress', 1),\n",
       " ('Germany', 1),\n",
       " ('European Union', 1),\n",
       " ('Maryland', 1),\n",
       " ('St Petersburg', 1),\n",
       " ('New York', 1),\n",
       " ('Brussels', 1),\n",
       " ('Zhukovsky', 1),\n",
       " ('Vladivostok', 1),\n",
       " ('Europe', 1),\n",
       " ('REUTERS', 1)]"
      ]
     },
     "execution_count": 3,
     "metadata": {},
     "output_type": "execute_result"
    }
   ],
   "source": [
    "NER.clear_database()\n",
    "collect_articles()\n",
    "NER.db\n",
    "NER.top_related(\"donald trump\")"
   ]
  }
 ],
 "metadata": {
  "anaconda-cloud": {},
  "kernelspec": {
   "display_name": "Python [conda root]",
   "language": "python",
   "name": "conda-root-py"
  },
  "language_info": {
   "codemirror_mode": {
    "name": "ipython",
    "version": 3
   },
   "file_extension": ".py",
   "mimetype": "text/x-python",
   "name": "python",
   "nbconvert_exporter": "python",
   "pygments_lexer": "ipython3",
   "version": "3.5.2"
  }
 },
 "nbformat": 4,
 "nbformat_minor": 1
}
